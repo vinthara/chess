{
 "cells": [
  {
   "cell_type": "code",
   "execution_count": 1,
   "id": "151e9c41",
   "metadata": {},
   "outputs": [],
   "source": [
    "import numpy as np\n",
    "import pandas as pd"
   ]
  },
  {
   "cell_type": "code",
   "execution_count": 2,
   "id": "4867db72",
   "metadata": {},
   "outputs": [],
   "source": [
    "df_rating = pd.read_pickle('players_rating_clean.zip')\n",
    "df_players = pd.read_csv('titled_players.csv', index_col=0)"
   ]
  },
  {
   "cell_type": "code",
   "execution_count": 3,
   "id": "d16a397f",
   "metadata": {},
   "outputs": [],
   "source": [
    "df_merged = df_rating.merge(df_players[['id', 'nom', 'titre', 'pays', 'naissance', 'sexe', 'actif']], how='left', on='id')"
   ]
  },
  {
   "cell_type": "code",
   "execution_count": 4,
   "id": "706e5c57",
   "metadata": {
    "scrolled": true
   },
   "outputs": [
    {
     "data": {
      "text/html": [
       "<div>\n",
       "<style scoped>\n",
       "    .dataframe tbody tr th:only-of-type {\n",
       "        vertical-align: middle;\n",
       "    }\n",
       "\n",
       "    .dataframe tbody tr th {\n",
       "        vertical-align: top;\n",
       "    }\n",
       "\n",
       "    .dataframe thead th {\n",
       "        text-align: right;\n",
       "    }\n",
       "</style>\n",
       "<table border=\"1\" class=\"dataframe\">\n",
       "  <thead>\n",
       "    <tr style=\"text-align: right;\">\n",
       "      <th></th>\n",
       "      <th>id</th>\n",
       "      <th>date</th>\n",
       "      <th>classique_elo</th>\n",
       "      <th>classique_parties</th>\n",
       "      <th>rapide_elo</th>\n",
       "      <th>rapide_parties</th>\n",
       "      <th>blitz_elo</th>\n",
       "      <th>blitz_parties</th>\n",
       "      <th>nom</th>\n",
       "      <th>titre</th>\n",
       "      <th>pays</th>\n",
       "      <th>naissance</th>\n",
       "      <th>sexe</th>\n",
       "      <th>actif</th>\n",
       "    </tr>\n",
       "  </thead>\n",
       "  <tbody>\n",
       "    <tr>\n",
       "      <th>1136185</th>\n",
       "      <td>11600551</td>\n",
       "      <td>2009-11-01</td>\n",
       "      <td>2334.0</td>\n",
       "      <td>0.0</td>\n",
       "      <td>NaN</td>\n",
       "      <td>NaN</td>\n",
       "      <td>NaN</td>\n",
       "      <td>NaN</td>\n",
       "      <td>Jankovskis, Guntis</td>\n",
       "      <td>FM</td>\n",
       "      <td>LAT</td>\n",
       "      <td>1971.0</td>\n",
       "      <td>M</td>\n",
       "      <td>1</td>\n",
       "    </tr>\n",
       "    <tr>\n",
       "      <th>741871</th>\n",
       "      <td>1600524</td>\n",
       "      <td>2019-03-01</td>\n",
       "      <td>2157.0</td>\n",
       "      <td>0.0</td>\n",
       "      <td>NaN</td>\n",
       "      <td>NaN</td>\n",
       "      <td>2218.0</td>\n",
       "      <td>0.0</td>\n",
       "      <td>Kranzl, Peter</td>\n",
       "      <td>FM</td>\n",
       "      <td>AUT</td>\n",
       "      <td>1964.0</td>\n",
       "      <td>M</td>\n",
       "      <td>1</td>\n",
       "    </tr>\n",
       "    <tr>\n",
       "      <th>1618645</th>\n",
       "      <td>108987</td>\n",
       "      <td>2018-02-01</td>\n",
       "      <td>1937.0</td>\n",
       "      <td>0.0</td>\n",
       "      <td>2016.0</td>\n",
       "      <td>0.0</td>\n",
       "      <td>2089.0</td>\n",
       "      <td>0.0</td>\n",
       "      <td>Maggiolo, Elisa</td>\n",
       "      <td>WIM</td>\n",
       "      <td>ARG</td>\n",
       "      <td>1980.0</td>\n",
       "      <td>F</td>\n",
       "      <td>1</td>\n",
       "    </tr>\n",
       "    <tr>\n",
       "      <th>2731389</th>\n",
       "      <td>25072846</td>\n",
       "      <td>2014-11-01</td>\n",
       "      <td>1846.0</td>\n",
       "      <td>9.0</td>\n",
       "      <td>1780.0</td>\n",
       "      <td>0.0</td>\n",
       "      <td>1773.0</td>\n",
       "      <td>9.0</td>\n",
       "      <td>Aronyak Ghosh</td>\n",
       "      <td>IM</td>\n",
       "      <td>IND</td>\n",
       "      <td>2003.0</td>\n",
       "      <td>M</td>\n",
       "      <td>1</td>\n",
       "    </tr>\n",
       "    <tr>\n",
       "      <th>2008377</th>\n",
       "      <td>13603353</td>\n",
       "      <td>2015-01-01</td>\n",
       "      <td>2300.0</td>\n",
       "      <td>0.0</td>\n",
       "      <td>NaN</td>\n",
       "      <td>NaN</td>\n",
       "      <td>NaN</td>\n",
       "      <td>NaN</td>\n",
       "      <td>Izoria, Giorgi</td>\n",
       "      <td>FM</td>\n",
       "      <td>GEO</td>\n",
       "      <td>1987.0</td>\n",
       "      <td>M</td>\n",
       "      <td>0</td>\n",
       "    </tr>\n",
       "  </tbody>\n",
       "</table>\n",
       "</div>"
      ],
      "text/plain": [
       "               id       date  classique_elo  classique_parties  rapide_elo  \\\n",
       "1136185  11600551 2009-11-01         2334.0                0.0         NaN   \n",
       "741871    1600524 2019-03-01         2157.0                0.0         NaN   \n",
       "1618645    108987 2018-02-01         1937.0                0.0      2016.0   \n",
       "2731389  25072846 2014-11-01         1846.0                9.0      1780.0   \n",
       "2008377  13603353 2015-01-01         2300.0                0.0         NaN   \n",
       "\n",
       "         rapide_parties  blitz_elo  blitz_parties                 nom titre  \\\n",
       "1136185             NaN        NaN            NaN  Jankovskis, Guntis    FM   \n",
       "741871              NaN     2218.0            0.0       Kranzl, Peter    FM   \n",
       "1618645             0.0     2089.0            0.0     Maggiolo, Elisa   WIM   \n",
       "2731389             0.0     1773.0            9.0       Aronyak Ghosh    IM   \n",
       "2008377             NaN        NaN            NaN      Izoria, Giorgi    FM   \n",
       "\n",
       "        pays  naissance sexe  actif  \n",
       "1136185  LAT     1971.0    M      1  \n",
       "741871   AUT     1964.0    M      1  \n",
       "1618645  ARG     1980.0    F      1  \n",
       "2731389  IND     2003.0    M      1  \n",
       "2008377  GEO     1987.0    M      0  "
      ]
     },
     "execution_count": 4,
     "metadata": {},
     "output_type": "execute_result"
    }
   ],
   "source": [
    "df_merged.sample(5)"
   ]
  },
  {
   "cell_type": "code",
   "execution_count": 5,
   "id": "8022eb53",
   "metadata": {},
   "outputs": [],
   "source": [
    "df_model = df_merged[df_merged['date'] >= '2013-01-01'][df_merged[df_merged['date'] >= '2013-01-01']['classique_elo'].notna()]"
   ]
  },
  {
   "cell_type": "code",
   "execution_count": 6,
   "id": "32c2a611",
   "metadata": {},
   "outputs": [
    {
     "data": {
      "text/plain": [
       "0.6952351499332294"
      ]
     },
     "execution_count": 6,
     "metadata": {},
     "output_type": "execute_result"
    }
   ],
   "source": [
    "df_model.shape[0] / df_rating.shape[0]"
   ]
  },
  {
   "cell_type": "code",
   "execution_count": 7,
   "id": "e72421e2",
   "metadata": {},
   "outputs": [
    {
     "data": {
      "text/html": [
       "<div>\n",
       "<style scoped>\n",
       "    .dataframe tbody tr th:only-of-type {\n",
       "        vertical-align: middle;\n",
       "    }\n",
       "\n",
       "    .dataframe tbody tr th {\n",
       "        vertical-align: top;\n",
       "    }\n",
       "\n",
       "    .dataframe thead th {\n",
       "        text-align: right;\n",
       "    }\n",
       "</style>\n",
       "<table border=\"1\" class=\"dataframe\">\n",
       "  <thead>\n",
       "    <tr style=\"text-align: right;\">\n",
       "      <th></th>\n",
       "      <th>id</th>\n",
       "      <th>date</th>\n",
       "      <th>classique_elo</th>\n",
       "      <th>classique_parties</th>\n",
       "      <th>rapide_elo</th>\n",
       "      <th>rapide_parties</th>\n",
       "      <th>blitz_elo</th>\n",
       "      <th>blitz_parties</th>\n",
       "      <th>nom</th>\n",
       "      <th>titre</th>\n",
       "      <th>pays</th>\n",
       "      <th>naissance</th>\n",
       "      <th>sexe</th>\n",
       "      <th>actif</th>\n",
       "    </tr>\n",
       "  </thead>\n",
       "  <tbody>\n",
       "    <tr>\n",
       "      <th>0</th>\n",
       "      <td>4611870</td>\n",
       "      <td>2021-09-01</td>\n",
       "      <td>2290.0</td>\n",
       "      <td>0.0</td>\n",
       "      <td>NaN</td>\n",
       "      <td>NaN</td>\n",
       "      <td>NaN</td>\n",
       "      <td>NaN</td>\n",
       "      <td>Keller-Hermann, Edith</td>\n",
       "      <td>WGM</td>\n",
       "      <td>GER</td>\n",
       "      <td>1921.0</td>\n",
       "      <td>F</td>\n",
       "      <td>0</td>\n",
       "    </tr>\n",
       "    <tr>\n",
       "      <th>1</th>\n",
       "      <td>4611870</td>\n",
       "      <td>2021-08-01</td>\n",
       "      <td>2290.0</td>\n",
       "      <td>0.0</td>\n",
       "      <td>NaN</td>\n",
       "      <td>NaN</td>\n",
       "      <td>NaN</td>\n",
       "      <td>NaN</td>\n",
       "      <td>Keller-Hermann, Edith</td>\n",
       "      <td>WGM</td>\n",
       "      <td>GER</td>\n",
       "      <td>1921.0</td>\n",
       "      <td>F</td>\n",
       "      <td>0</td>\n",
       "    </tr>\n",
       "    <tr>\n",
       "      <th>2</th>\n",
       "      <td>4611870</td>\n",
       "      <td>2021-07-01</td>\n",
       "      <td>2290.0</td>\n",
       "      <td>0.0</td>\n",
       "      <td>NaN</td>\n",
       "      <td>NaN</td>\n",
       "      <td>NaN</td>\n",
       "      <td>NaN</td>\n",
       "      <td>Keller-Hermann, Edith</td>\n",
       "      <td>WGM</td>\n",
       "      <td>GER</td>\n",
       "      <td>1921.0</td>\n",
       "      <td>F</td>\n",
       "      <td>0</td>\n",
       "    </tr>\n",
       "    <tr>\n",
       "      <th>3</th>\n",
       "      <td>4611870</td>\n",
       "      <td>2021-06-01</td>\n",
       "      <td>2290.0</td>\n",
       "      <td>0.0</td>\n",
       "      <td>NaN</td>\n",
       "      <td>NaN</td>\n",
       "      <td>NaN</td>\n",
       "      <td>NaN</td>\n",
       "      <td>Keller-Hermann, Edith</td>\n",
       "      <td>WGM</td>\n",
       "      <td>GER</td>\n",
       "      <td>1921.0</td>\n",
       "      <td>F</td>\n",
       "      <td>0</td>\n",
       "    </tr>\n",
       "    <tr>\n",
       "      <th>4</th>\n",
       "      <td>4611870</td>\n",
       "      <td>2021-05-01</td>\n",
       "      <td>2290.0</td>\n",
       "      <td>0.0</td>\n",
       "      <td>NaN</td>\n",
       "      <td>NaN</td>\n",
       "      <td>NaN</td>\n",
       "      <td>NaN</td>\n",
       "      <td>Keller-Hermann, Edith</td>\n",
       "      <td>WGM</td>\n",
       "      <td>GER</td>\n",
       "      <td>1921.0</td>\n",
       "      <td>F</td>\n",
       "      <td>0</td>\n",
       "    </tr>\n",
       "  </tbody>\n",
       "</table>\n",
       "</div>"
      ],
      "text/plain": [
       "        id       date  classique_elo  classique_parties  rapide_elo  \\\n",
       "0  4611870 2021-09-01         2290.0                0.0         NaN   \n",
       "1  4611870 2021-08-01         2290.0                0.0         NaN   \n",
       "2  4611870 2021-07-01         2290.0                0.0         NaN   \n",
       "3  4611870 2021-06-01         2290.0                0.0         NaN   \n",
       "4  4611870 2021-05-01         2290.0                0.0         NaN   \n",
       "\n",
       "   rapide_parties  blitz_elo  blitz_parties                    nom titre pays  \\\n",
       "0             NaN        NaN            NaN  Keller-Hermann, Edith   WGM  GER   \n",
       "1             NaN        NaN            NaN  Keller-Hermann, Edith   WGM  GER   \n",
       "2             NaN        NaN            NaN  Keller-Hermann, Edith   WGM  GER   \n",
       "3             NaN        NaN            NaN  Keller-Hermann, Edith   WGM  GER   \n",
       "4             NaN        NaN            NaN  Keller-Hermann, Edith   WGM  GER   \n",
       "\n",
       "   naissance sexe  actif  \n",
       "0     1921.0    F      0  \n",
       "1     1921.0    F      0  \n",
       "2     1921.0    F      0  \n",
       "3     1921.0    F      0  \n",
       "4     1921.0    F      0  "
      ]
     },
     "execution_count": 7,
     "metadata": {},
     "output_type": "execute_result"
    }
   ],
   "source": [
    "df_model.head()"
   ]
  },
  {
   "cell_type": "markdown",
   "id": "9d52f0be",
   "metadata": {},
   "source": [
    "Essayons de prédire le sexe d'un joueur suivant son classement, âge "
   ]
  },
  {
   "cell_type": "code",
   "execution_count": 8,
   "id": "45a6207c",
   "metadata": {},
   "outputs": [],
   "source": [
    "df_first_attempt = df_model[['id', 'classique_elo', 'classique_parties', 'naissance', 'sexe']]"
   ]
  },
  {
   "cell_type": "code",
   "execution_count": 9,
   "id": "0072dc29",
   "metadata": {},
   "outputs": [
    {
     "data": {
      "text/plain": [
       "M    0.804803\n",
       "F    0.195197\n",
       "Name: sexe, dtype: float64"
      ]
     },
     "execution_count": 9,
     "metadata": {},
     "output_type": "execute_result"
    }
   ],
   "source": [
    "df_first_attempt['sexe'].value_counts(normalize=True)"
   ]
  },
  {
   "cell_type": "code",
   "execution_count": 10,
   "id": "5138063c",
   "metadata": {},
   "outputs": [],
   "source": [
    "u = df_first_attempt.groupby('id').agg({'classique_elo':np.mean, 'classique_parties':np.mean, 'naissance':np.mean,'sexe':np.max})"
   ]
  },
  {
   "cell_type": "code",
   "execution_count": 11,
   "id": "8f1c517b",
   "metadata": {},
   "outputs": [],
   "source": [
    "z = df_first_attempt.groupby('id').std(ddof=0)[['classique_elo', 'classique_parties']]"
   ]
  },
  {
   "cell_type": "code",
   "execution_count": 12,
   "id": "9f008660",
   "metadata": {},
   "outputs": [],
   "source": [
    "z.columns = ['classique_elo_std', 'classique_parties_std']"
   ]
  },
  {
   "cell_type": "code",
   "execution_count": 13,
   "id": "cc176edf",
   "metadata": {},
   "outputs": [],
   "source": [
    "a = u.merge(z, how='left', on='id').merge(df_players[['id','pays','actif']], how='left', on='id')"
   ]
  },
  {
   "cell_type": "code",
   "execution_count": 14,
   "id": "a6ff1324",
   "metadata": {},
   "outputs": [],
   "source": [
    "a = a[['classique_elo','classique_elo_std', 'classique_parties', 'classique_parties_std', 'naissance', 'sexe', 'pays','actif']]"
   ]
  },
  {
   "cell_type": "code",
   "execution_count": 15,
   "id": "5626e0b0",
   "metadata": {},
   "outputs": [
    {
     "data": {
      "text/html": [
       "<div>\n",
       "<style scoped>\n",
       "    .dataframe tbody tr th:only-of-type {\n",
       "        vertical-align: middle;\n",
       "    }\n",
       "\n",
       "    .dataframe tbody tr th {\n",
       "        vertical-align: top;\n",
       "    }\n",
       "\n",
       "    .dataframe thead th {\n",
       "        text-align: right;\n",
       "    }\n",
       "</style>\n",
       "<table border=\"1\" class=\"dataframe\">\n",
       "  <thead>\n",
       "    <tr style=\"text-align: right;\">\n",
       "      <th></th>\n",
       "      <th>classique_elo</th>\n",
       "      <th>classique_elo_std</th>\n",
       "      <th>classique_parties</th>\n",
       "      <th>classique_parties_std</th>\n",
       "      <th>naissance</th>\n",
       "      <th>sexe</th>\n",
       "      <th>actif</th>\n",
       "      <th>pays_AFG</th>\n",
       "      <th>pays_AHO</th>\n",
       "      <th>pays_ALB</th>\n",
       "      <th>...</th>\n",
       "      <th>pays_UKR</th>\n",
       "      <th>pays_URU</th>\n",
       "      <th>pays_USA</th>\n",
       "      <th>pays_UZB</th>\n",
       "      <th>pays_VEN</th>\n",
       "      <th>pays_VIE</th>\n",
       "      <th>pays_WLS</th>\n",
       "      <th>pays_YEM</th>\n",
       "      <th>pays_ZAM</th>\n",
       "      <th>pays_ZIM</th>\n",
       "    </tr>\n",
       "  </thead>\n",
       "  <tbody>\n",
       "    <tr>\n",
       "      <th>0</th>\n",
       "      <td>2437.523810</td>\n",
       "      <td>21.231197</td>\n",
       "      <td>5.457143</td>\n",
       "      <td>7.008877</td>\n",
       "      <td>1957.0</td>\n",
       "      <td>M</td>\n",
       "      <td>1</td>\n",
       "      <td>0</td>\n",
       "      <td>0</td>\n",
       "      <td>0</td>\n",
       "      <td>...</td>\n",
       "      <td>0</td>\n",
       "      <td>0</td>\n",
       "      <td>0</td>\n",
       "      <td>0</td>\n",
       "      <td>0</td>\n",
       "      <td>0</td>\n",
       "      <td>0</td>\n",
       "      <td>0</td>\n",
       "      <td>0</td>\n",
       "      <td>0</td>\n",
       "    </tr>\n",
       "    <tr>\n",
       "      <th>1</th>\n",
       "      <td>2422.000000</td>\n",
       "      <td>0.000000</td>\n",
       "      <td>0.000000</td>\n",
       "      <td>0.000000</td>\n",
       "      <td>1947.0</td>\n",
       "      <td>M</td>\n",
       "      <td>0</td>\n",
       "      <td>0</td>\n",
       "      <td>0</td>\n",
       "      <td>0</td>\n",
       "      <td>...</td>\n",
       "      <td>0</td>\n",
       "      <td>0</td>\n",
       "      <td>0</td>\n",
       "      <td>0</td>\n",
       "      <td>0</td>\n",
       "      <td>0</td>\n",
       "      <td>0</td>\n",
       "      <td>0</td>\n",
       "      <td>0</td>\n",
       "      <td>0</td>\n",
       "    </tr>\n",
       "    <tr>\n",
       "      <th>2</th>\n",
       "      <td>2435.361905</td>\n",
       "      <td>29.320925</td>\n",
       "      <td>2.104762</td>\n",
       "      <td>4.040094</td>\n",
       "      <td>1968.0</td>\n",
       "      <td>M</td>\n",
       "      <td>1</td>\n",
       "      <td>0</td>\n",
       "      <td>0</td>\n",
       "      <td>0</td>\n",
       "      <td>...</td>\n",
       "      <td>0</td>\n",
       "      <td>0</td>\n",
       "      <td>0</td>\n",
       "      <td>0</td>\n",
       "      <td>0</td>\n",
       "      <td>0</td>\n",
       "      <td>0</td>\n",
       "      <td>0</td>\n",
       "      <td>0</td>\n",
       "      <td>0</td>\n",
       "    </tr>\n",
       "    <tr>\n",
       "      <th>3</th>\n",
       "      <td>2425.000000</td>\n",
       "      <td>0.000000</td>\n",
       "      <td>0.000000</td>\n",
       "      <td>0.000000</td>\n",
       "      <td>1958.0</td>\n",
       "      <td>M</td>\n",
       "      <td>0</td>\n",
       "      <td>0</td>\n",
       "      <td>0</td>\n",
       "      <td>0</td>\n",
       "      <td>...</td>\n",
       "      <td>0</td>\n",
       "      <td>0</td>\n",
       "      <td>0</td>\n",
       "      <td>0</td>\n",
       "      <td>0</td>\n",
       "      <td>0</td>\n",
       "      <td>0</td>\n",
       "      <td>0</td>\n",
       "      <td>0</td>\n",
       "      <td>0</td>\n",
       "    </tr>\n",
       "    <tr>\n",
       "      <th>4</th>\n",
       "      <td>2340.000000</td>\n",
       "      <td>0.000000</td>\n",
       "      <td>0.000000</td>\n",
       "      <td>0.000000</td>\n",
       "      <td>1958.0</td>\n",
       "      <td>M</td>\n",
       "      <td>0</td>\n",
       "      <td>0</td>\n",
       "      <td>0</td>\n",
       "      <td>0</td>\n",
       "      <td>...</td>\n",
       "      <td>0</td>\n",
       "      <td>0</td>\n",
       "      <td>0</td>\n",
       "      <td>0</td>\n",
       "      <td>0</td>\n",
       "      <td>0</td>\n",
       "      <td>0</td>\n",
       "      <td>0</td>\n",
       "      <td>0</td>\n",
       "      <td>0</td>\n",
       "    </tr>\n",
       "  </tbody>\n",
       "</table>\n",
       "<p>5 rows × 187 columns</p>\n",
       "</div>"
      ],
      "text/plain": [
       "   classique_elo  classique_elo_std  classique_parties  classique_parties_std  \\\n",
       "0    2437.523810          21.231197           5.457143               7.008877   \n",
       "1    2422.000000           0.000000           0.000000               0.000000   \n",
       "2    2435.361905          29.320925           2.104762               4.040094   \n",
       "3    2425.000000           0.000000           0.000000               0.000000   \n",
       "4    2340.000000           0.000000           0.000000               0.000000   \n",
       "\n",
       "   naissance sexe  actif  pays_AFG  pays_AHO  pays_ALB  ...  pays_UKR  \\\n",
       "0     1957.0    M      1         0         0         0  ...         0   \n",
       "1     1947.0    M      0         0         0         0  ...         0   \n",
       "2     1968.0    M      1         0         0         0  ...         0   \n",
       "3     1958.0    M      0         0         0         0  ...         0   \n",
       "4     1958.0    M      0         0         0         0  ...         0   \n",
       "\n",
       "   pays_URU  pays_USA  pays_UZB  pays_VEN  pays_VIE  pays_WLS  pays_YEM  \\\n",
       "0         0         0         0         0         0         0         0   \n",
       "1         0         0         0         0         0         0         0   \n",
       "2         0         0         0         0         0         0         0   \n",
       "3         0         0         0         0         0         0         0   \n",
       "4         0         0         0         0         0         0         0   \n",
       "\n",
       "   pays_ZAM  pays_ZIM  \n",
       "0         0         0  \n",
       "1         0         0  \n",
       "2         0         0  \n",
       "3         0         0  \n",
       "4         0         0  \n",
       "\n",
       "[5 rows x 187 columns]"
      ]
     },
     "execution_count": 15,
     "metadata": {},
     "output_type": "execute_result"
    }
   ],
   "source": [
    "a = pd.get_dummies(a, columns=['pays'])\n",
    "a.head()"
   ]
  },
  {
   "cell_type": "code",
   "execution_count": 22,
   "id": "a4b044c9",
   "metadata": {},
   "outputs": [],
   "source": [
    "from sklearn.ensemble import RandomForestClassifier\n",
    "from sklearn.model_selection import cross_val_score"
   ]
  },
  {
   "cell_type": "code",
   "execution_count": 29,
   "id": "ca712bef",
   "metadata": {},
   "outputs": [],
   "source": [
    "from sklearn.model_selection import train_test_split\n",
    "from sklearn.metrics import accuracy_score\n",
    "from sklearn.metrics import f1_score\n",
    "from sklearn.model_selection import StratifiedKFold\n",
    "df_train, df_test = train_test_split(a, test_size=0.2, random_state=10)"
   ]
  },
  {
   "cell_type": "code",
   "execution_count": 23,
   "id": "ac07433e",
   "metadata": {},
   "outputs": [],
   "source": [
    "X = a.copy()\n",
    "y = X.pop('sexe')\n",
    "scores = cross_val_score(RandomForestClassifier(), X, y, cv=5, scoring='f1_micro')"
   ]
  },
  {
   "cell_type": "code",
   "execution_count": 35,
   "id": "5c36c3cb",
   "metadata": {},
   "outputs": [
    {
     "data": {
      "text/plain": [
       "0        M\n",
       "1        M\n",
       "2        M\n",
       "3        M\n",
       "4        M\n",
       "        ..\n",
       "19428    M\n",
       "19429    F\n",
       "19430    M\n",
       "19431    M\n",
       "19432    M\n",
       "Name: sexe, Length: 19433, dtype: object"
      ]
     },
     "execution_count": 35,
     "metadata": {},
     "output_type": "execute_result"
    }
   ],
   "source": [
    "y"
   ]
  },
  {
   "cell_type": "code",
   "execution_count": 24,
   "id": "781fd061",
   "metadata": {},
   "outputs": [
    {
     "data": {
      "text/plain": [
       "array([0.83483406, 0.64214047, 0.60535117, 0.6618631 , 0.73237262])"
      ]
     },
     "execution_count": 24,
     "metadata": {},
     "output_type": "execute_result"
    }
   ],
   "source": [
    "scores"
   ]
  },
  {
   "cell_type": "code",
   "execution_count": 59,
   "id": "a4eee4f7",
   "metadata": {},
   "outputs": [],
   "source": [
    "temp = df_train.copy()\n",
    "temp.pop('sexe')\n",
    "cols = temp.columns\n",
    "cols = ['classique_elo' ,'classique_elo_std' , 'classique_parties','classique_parties_std','naissance','actif']\n",
    "X_train = df_train[cols]\n",
    "y_train = df_train['sexe']\n",
    "X_test = df_test[cols]\n",
    "y_test = df_test['sexe']\n"
   ]
  },
  {
   "cell_type": "code",
   "execution_count": 32,
   "id": "07b4821e",
   "metadata": {},
   "outputs": [],
   "source": [
    "model = RandomForestClassifier()\n",
    "model.fit(X_train, y_train)\n",
    "predictions = model.predict(X_test)"
   ]
  },
  {
   "cell_type": "code",
   "execution_count": 33,
   "id": "19d2d1c1",
   "metadata": {},
   "outputs": [
    {
     "data": {
      "text/plain": [
       "0.882943143812709"
      ]
     },
     "execution_count": 33,
     "metadata": {},
     "output_type": "execute_result"
    }
   ],
   "source": [
    "f1_score(y_test, predictions, average='micro')"
   ]
  },
  {
   "cell_type": "markdown",
   "id": "a235d1a1",
   "metadata": {},
   "source": [
    "RandomForestClassifier pour un cross validation en 5 splits"
   ]
  },
  {
   "cell_type": "code",
   "execution_count": 43,
   "id": "27f364f6",
   "metadata": {},
   "outputs": [],
   "source": [
    "skf = StratifiedKFold(n_splits=5, random_state=0, shuffle=True)\n",
    "score = []\n",
    "for train_index, test_index in skf.split(X, y):\n",
    "    X_train, X_test = X.iloc[train_index], X.iloc[test_index]\n",
    "    y_train, y_test = y.iloc[train_index], y.iloc[test_index]\n",
    "    model = RandomForestClassifier()\n",
    "    model.fit(X_train, y_train)\n",
    "    predictions = model.predict(X_test)\n",
    "    score.append(f1_score(y_test, predictions, average='micro'))\n"
   ]
  },
  {
   "cell_type": "code",
   "execution_count": 52,
   "id": "bfb274c5",
   "metadata": {},
   "outputs": [
    {
     "name": "stdout",
     "output_type": "stream",
     "text": [
      "5 split score : [0.8790841265757655, 0.8862876254180602, 0.881914072549524, 0.8872876994338652, 0.8860010293360784],\n",
      " score moyen:0.8841149106626587\n"
     ]
    }
   ],
   "source": [
    "print(f\"5 split score : {score},\\n score moyen:{np.array(score).mean()}\")"
   ]
  },
  {
   "cell_type": "markdown",
   "id": "fbcaa305",
   "metadata": {},
   "source": [
    "Linear "
   ]
  },
  {
   "cell_type": "code",
   "execution_count": 69,
   "id": "63fd389b",
   "metadata": {},
   "outputs": [],
   "source": [
    "from sklearn.linear_model import LogisticRegression\n",
    "\n",
    "skf = StratifiedKFold(n_splits=5, random_state=0, shuffle=True)\n",
    "score2 = []\n",
    "# X_temp = X[cols]\n",
    "for train_index, test_index in skf.split(X, y):\n",
    "    X_train, X_test = X.iloc[train_index], X.iloc[test_index]\n",
    "    y_train, y_test = y.iloc[train_index], y.iloc[test_index]\n",
    "    model = LogisticRegression(max_iter=500)\n",
    "    model.fit(X_train, y_train)\n",
    "    predictions = model.predict(X_test)\n",
    "    score2.append(f1_score(y_test, predictions, average='micro'))\n"
   ]
  },
  {
   "cell_type": "code",
   "execution_count": 68,
   "id": "84d64a01",
   "metadata": {},
   "outputs": [
    {
     "name": "stdout",
     "output_type": "stream",
     "text": [
      "5 split score : [0.8572163622330846, 0.8600463082068434, 0.8592745047594545, 0.8561502830674214, 0.8589809572825527],\n",
      " score moyen:0.8583336831098712\n"
     ]
    }
   ],
   "source": [
    "print(f\"5 split score : {score2},\\n score moyen:{np.array(score2).mean()}\")"
   ]
  },
  {
   "cell_type": "code",
   "execution_count": null,
   "id": "384b1b46",
   "metadata": {},
   "outputs": [],
   "source": []
  }
 ],
 "metadata": {
  "kernelspec": {
   "display_name": "Python 3.8 (tensorflow)",
   "language": "python",
   "name": "tensorflow"
  },
  "language_info": {
   "codemirror_mode": {
    "name": "ipython",
    "version": 3
   },
   "file_extension": ".py",
   "mimetype": "text/x-python",
   "name": "python",
   "nbconvert_exporter": "python",
   "pygments_lexer": "ipython3",
   "version": "3.8.8"
  }
 },
 "nbformat": 4,
 "nbformat_minor": 5
}
