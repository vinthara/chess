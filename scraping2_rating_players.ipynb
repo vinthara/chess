{
 "cells": [
  {
   "cell_type": "code",
   "execution_count": 54,
   "id": "e0afe9c6",
   "metadata": {},
   "outputs": [],
   "source": [
    "import pandas as pd\n",
    "import numpy as np\n",
    "import requests\n",
    "from bs4 import BeautifulSoup\n",
    "import re"
   ]
  },
  {
   "cell_type": "markdown",
   "id": "8cb99f6a",
   "metadata": {},
   "source": [
    "# Elos mensuels\n",
    "Nous allons récupérer toutes les elos mensuels pour chaque joueur titrés"
   ]
  },
  {
   "cell_type": "code",
   "execution_count": 297,
   "id": "1a8acd80",
   "metadata": {},
   "outputs": [],
   "source": [
    "df2 = pd.read_csv('titled_players.csv', index_col = 0)"
   ]
  },
  {
   "cell_type": "markdown",
   "id": "cd195297",
   "metadata": {},
   "source": [
    "Récupérons le classement elos uniquement lorsqu'il y'a au moins 1 valeur pour une des trois catégorie classique, rapide ou blitz"
   ]
  },
  {
   "cell_type": "code",
   "execution_count": 298,
   "id": "1068cae1",
   "metadata": {},
   "outputs": [
    {
     "data": {
      "text/plain": [
       "0    10273\n",
       "2     5831\n",
       "1     3335\n",
       "3       70\n",
       "dtype: int64"
      ]
     },
     "execution_count": 298,
     "metadata": {},
     "output_type": "execute_result"
    }
   ],
   "source": [
    "df2[['classique', 'rapide', 'blitz']].isnull().sum(axis=1).value_counts()"
   ]
  },
  {
   "cell_type": "code",
   "execution_count": 299,
   "id": "0c43c85a",
   "metadata": {},
   "outputs": [
    {
     "data": {
      "text/plain": [
       "1     4611870\n",
       "2     2002310\n",
       "3    14100657\n",
       "4     4101529\n",
       "5     4103424\n",
       "Name: id, dtype: int64"
      ]
     },
     "execution_count": 299,
     "metadata": {},
     "output_type": "execute_result"
    }
   ],
   "source": [
    "id_any_rating = df2[df2[['classique', 'rapide', 'blitz']].isnull().sum(axis=1) <= 2]['id']\n",
    "id_any_rating.head()"
   ]
  },
  {
   "cell_type": "code",
   "execution_count": 150,
   "id": "69989915",
   "metadata": {
    "scrolled": false
   },
   "outputs": [],
   "source": [
    "# %%time\n",
    "## Le code risque de prendre environ 2h, enregistrons le directement en un csv\n",
    "def scrap_rating():\n",
    "    \"\"\"Scrap des données mensuel de tous les joueurs titrés sur le site de la FIDE\n",
    "    \n",
    "        Returns: \n",
    "            DataFrame : L'id du joueur, nombre de parties par catégorie, ainsi que le classement \n",
    "            (categorie : classique, rapide ou blitz)\n",
    "    \"\"\"\n",
    "    try:\n",
    "        df_merged = pd.DataFrame()\n",
    "        for id_fide in id_any_rating:\n",
    "            url = 'https://ratings.fide.com/profile/'+str(id_fide)+'/chart'\n",
    "            html_text = requests.get(url).text\n",
    "            soup = BeautifulSoup(html_text, 'html.parser')\n",
    "            \n",
    "            soup.find_all('table', class_=\"profile-table profile-table_chart-table\")\n",
    "            rating_text = []\n",
    "\n",
    "            for td in soup.find_all('table', class_=\"profile-table profile-table_chart-table\"):\n",
    "                soup_td = td.find_all('td')\n",
    "\n",
    "            for i in soup_td:\n",
    "                rating_text.append(re.sub(r'(\\xa0)+',' ', i.text))\n",
    "            if len(rating_text)% 7 != 0:\n",
    "                # cas où l'extraction des données se passe mal\n",
    "                continue\n",
    "            array = np.array(rating_text).reshape((-1,7))\n",
    "            \n",
    "            cols = ['id',\n",
    "                'date', \n",
    "                'classique_elo', \n",
    "                'classique_parties', \n",
    "                'rapide_elo', \n",
    "                'rapide_parties', \n",
    "                'blitz_elo', \n",
    "                'blitz_parties'\n",
    "                ]\n",
    "            df = pd.DataFrame(data=array,columns=cols[1:])\n",
    "            df['id'] = id_fide\n",
    "            df = df[cols]\n",
    "            df_merged = pd.concat([df_merged,df])\n",
    "\n",
    "        return df_merged.reset_index(drop=True)\n",
    "    except ValueError:\n",
    "        print(id_fide)\n",
    "        return df_merged.reset_index(drop=True), id_fide\n",
    "df = scrap_rating()\n",
    "df.to_csv('players_rating.csv')"
   ]
  },
  {
   "cell_type": "code",
   "execution_count": 334,
   "id": "4eeb2d83",
   "metadata": {},
   "outputs": [],
   "source": [
    "# df = pd.read_csv('players_rating.csv', index_col = 0)"
   ]
  },
  {
   "cell_type": "code",
   "execution_count": 335,
   "id": "23e9911e",
   "metadata": {},
   "outputs": [
    {
     "data": {
      "text/html": [
       "<div>\n",
       "<style scoped>\n",
       "    .dataframe tbody tr th:only-of-type {\n",
       "        vertical-align: middle;\n",
       "    }\n",
       "\n",
       "    .dataframe tbody tr th {\n",
       "        vertical-align: top;\n",
       "    }\n",
       "\n",
       "    .dataframe thead th {\n",
       "        text-align: right;\n",
       "    }\n",
       "</style>\n",
       "<table border=\"1\" class=\"dataframe\">\n",
       "  <thead>\n",
       "    <tr style=\"text-align: right;\">\n",
       "      <th></th>\n",
       "      <th>id</th>\n",
       "      <th>date</th>\n",
       "      <th>classique_elo</th>\n",
       "      <th>classique_parties</th>\n",
       "      <th>rapide_elo</th>\n",
       "      <th>rapide_parties</th>\n",
       "      <th>blitz_elo</th>\n",
       "      <th>blitz_parties</th>\n",
       "    </tr>\n",
       "  </thead>\n",
       "  <tbody>\n",
       "    <tr>\n",
       "      <th>0</th>\n",
       "      <td>4611870</td>\n",
       "      <td>2021-Sep</td>\n",
       "      <td>2290</td>\n",
       "      <td>0</td>\n",
       "      <td></td>\n",
       "      <td></td>\n",
       "      <td></td>\n",
       "      <td></td>\n",
       "    </tr>\n",
       "    <tr>\n",
       "      <th>1</th>\n",
       "      <td>4611870</td>\n",
       "      <td>2021-Aug</td>\n",
       "      <td>2290</td>\n",
       "      <td>0</td>\n",
       "      <td></td>\n",
       "      <td></td>\n",
       "      <td></td>\n",
       "      <td></td>\n",
       "    </tr>\n",
       "    <tr>\n",
       "      <th>2</th>\n",
       "      <td>4611870</td>\n",
       "      <td>2021-Jul</td>\n",
       "      <td>2290</td>\n",
       "      <td>0</td>\n",
       "      <td></td>\n",
       "      <td></td>\n",
       "      <td></td>\n",
       "      <td></td>\n",
       "    </tr>\n",
       "    <tr>\n",
       "      <th>3</th>\n",
       "      <td>4611870</td>\n",
       "      <td>2021-Jun</td>\n",
       "      <td>2290</td>\n",
       "      <td>0</td>\n",
       "      <td></td>\n",
       "      <td></td>\n",
       "      <td></td>\n",
       "      <td></td>\n",
       "    </tr>\n",
       "    <tr>\n",
       "      <th>4</th>\n",
       "      <td>4611870</td>\n",
       "      <td>2021-May</td>\n",
       "      <td>2290</td>\n",
       "      <td>0</td>\n",
       "      <td></td>\n",
       "      <td></td>\n",
       "      <td></td>\n",
       "      <td></td>\n",
       "    </tr>\n",
       "  </tbody>\n",
       "</table>\n",
       "</div>"
      ],
      "text/plain": [
       "        id        date classique_elo classique_parties rapide_elo  \\\n",
       "0  4611870   2021-Sep          2290                 0               \n",
       "1  4611870   2021-Aug          2290                 0               \n",
       "2  4611870   2021-Jul          2290                 0               \n",
       "3  4611870   2021-Jun          2290                 0               \n",
       "4  4611870   2021-May          2290                 0               \n",
       "\n",
       "  rapide_parties blitz_elo blitz_parties  \n",
       "0                                         \n",
       "1                                         \n",
       "2                                         \n",
       "3                                         \n",
       "4                                         "
      ]
     },
     "execution_count": 335,
     "metadata": {},
     "output_type": "execute_result"
    }
   ],
   "source": [
    "df.head()"
   ]
  },
  {
   "cell_type": "markdown",
   "id": "35deb10b",
   "metadata": {},
   "source": [
    "Il y'a 6 joueurs dont on n'a pas pu récupérer les données "
   ]
  },
  {
   "cell_type": "code",
   "execution_count": 336,
   "id": "1be8278d",
   "metadata": {},
   "outputs": [
    {
     "data": {
      "text/plain": [
       "6"
      ]
     },
     "execution_count": 336,
     "metadata": {},
     "output_type": "execute_result"
    }
   ],
   "source": [
    "len(id_any_rating) - len(df['id'].unique())"
   ]
  },
  {
   "cell_type": "code",
   "execution_count": 337,
   "id": "d4c26682",
   "metadata": {},
   "outputs": [
    {
     "data": {
      "text/plain": [
       "array([  701327,   701599,  4106970,  4150813,  4633563, 14105152],\n",
       "      dtype=int64)"
      ]
     },
     "execution_count": 337,
     "metadata": {},
     "output_type": "execute_result"
    }
   ],
   "source": [
    "joueurs = np.setdiff1d(id_any_rating.unique(), df['id'].unique())\n",
    "joueurs"
   ]
  },
  {
   "cell_type": "code",
   "execution_count": 338,
   "id": "a798d09e",
   "metadata": {
    "scrolled": false
   },
   "outputs": [
    {
     "data": {
      "text/html": [
       "<div>\n",
       "<style scoped>\n",
       "    .dataframe tbody tr th:only-of-type {\n",
       "        vertical-align: middle;\n",
       "    }\n",
       "\n",
       "    .dataframe tbody tr th {\n",
       "        vertical-align: top;\n",
       "    }\n",
       "\n",
       "    .dataframe thead th {\n",
       "        text-align: right;\n",
       "    }\n",
       "</style>\n",
       "<table border=\"1\" class=\"dataframe\">\n",
       "  <thead>\n",
       "    <tr style=\"text-align: right;\">\n",
       "      <th></th>\n",
       "      <th>id</th>\n",
       "      <th>nom</th>\n",
       "      <th>titre</th>\n",
       "      <th>woman_titre</th>\n",
       "      <th>pays</th>\n",
       "      <th>classique</th>\n",
       "      <th>rapide</th>\n",
       "      <th>blitz</th>\n",
       "      <th>naissance</th>\n",
       "      <th>sexe</th>\n",
       "      <th>actif</th>\n",
       "      <th>titre_dates</th>\n",
       "      <th>Woman Candidate Master (WCM)</th>\n",
       "      <th>Candidate Master (CM)</th>\n",
       "      <th>Woman FIDE Master (WFM)</th>\n",
       "      <th>FIDE Master (FM)</th>\n",
       "      <th>Woman International Master (WIM)</th>\n",
       "      <th>International Master (IM)</th>\n",
       "      <th>Woman Grandmaster (WGM)</th>\n",
       "      <th>Grandmaster (GM)</th>\n",
       "    </tr>\n",
       "  </thead>\n",
       "  <tbody>\n",
       "    <tr>\n",
       "      <th>679</th>\n",
       "      <td>701599</td>\n",
       "      <td>Demeter, Istvan</td>\n",
       "      <td>FM</td>\n",
       "      <td>NaN</td>\n",
       "      <td>HUN</td>\n",
       "      <td>1995.0</td>\n",
       "      <td>NaN</td>\n",
       "      <td>NaN</td>\n",
       "      <td>1946.0</td>\n",
       "      <td>M</td>\n",
       "      <td>1</td>\n",
       "      <td>NaN</td>\n",
       "      <td>NaN</td>\n",
       "      <td>NaN</td>\n",
       "      <td>NaN</td>\n",
       "      <td>NaN</td>\n",
       "      <td>NaN</td>\n",
       "      <td>NaN</td>\n",
       "      <td>NaN</td>\n",
       "      <td>NaN</td>\n",
       "    </tr>\n",
       "    <tr>\n",
       "      <th>2106</th>\n",
       "      <td>14105152</td>\n",
       "      <td>Chemeris, Roman</td>\n",
       "      <td>FM</td>\n",
       "      <td>NaN</td>\n",
       "      <td>UKR</td>\n",
       "      <td>2333.0</td>\n",
       "      <td>NaN</td>\n",
       "      <td>NaN</td>\n",
       "      <td>1956.0</td>\n",
       "      <td>M</td>\n",
       "      <td>0</td>\n",
       "      <td>['FIDE Master (FM)', '2007']</td>\n",
       "      <td>NaN</td>\n",
       "      <td>NaN</td>\n",
       "      <td>NaN</td>\n",
       "      <td>2007.0</td>\n",
       "      <td>NaN</td>\n",
       "      <td>NaN</td>\n",
       "      <td>NaN</td>\n",
       "      <td>NaN</td>\n",
       "    </tr>\n",
       "    <tr>\n",
       "      <th>5054</th>\n",
       "      <td>4106970</td>\n",
       "      <td>Stepovaia, Tatiana</td>\n",
       "      <td>WGM</td>\n",
       "      <td>WGM</td>\n",
       "      <td>RUS</td>\n",
       "      <td>2305.0</td>\n",
       "      <td>NaN</td>\n",
       "      <td>NaN</td>\n",
       "      <td>1965.0</td>\n",
       "      <td>F</td>\n",
       "      <td>0</td>\n",
       "      <td>['Woman Grandmaster (WGM)', '1992', 'Woman Int...</td>\n",
       "      <td>NaN</td>\n",
       "      <td>NaN</td>\n",
       "      <td>NaN</td>\n",
       "      <td>NaN</td>\n",
       "      <td>1988.0</td>\n",
       "      <td>NaN</td>\n",
       "      <td>1992.0</td>\n",
       "      <td>NaN</td>\n",
       "    </tr>\n",
       "    <tr>\n",
       "      <th>7984</th>\n",
       "      <td>701327</td>\n",
       "      <td>Fancsy, Imre</td>\n",
       "      <td>IM</td>\n",
       "      <td>NaN</td>\n",
       "      <td>HUN</td>\n",
       "      <td>2346.0</td>\n",
       "      <td>2371.0</td>\n",
       "      <td>2349.0</td>\n",
       "      <td>1974.0</td>\n",
       "      <td>M</td>\n",
       "      <td>1</td>\n",
       "      <td>['International Master (IM)', '1993']</td>\n",
       "      <td>NaN</td>\n",
       "      <td>NaN</td>\n",
       "      <td>NaN</td>\n",
       "      <td>NaN</td>\n",
       "      <td>NaN</td>\n",
       "      <td>1993.0</td>\n",
       "      <td>NaN</td>\n",
       "      <td>NaN</td>\n",
       "    </tr>\n",
       "    <tr>\n",
       "      <th>8259</th>\n",
       "      <td>4150813</td>\n",
       "      <td>Apalev, Sergey</td>\n",
       "      <td>FM</td>\n",
       "      <td>NaN</td>\n",
       "      <td>RUS</td>\n",
       "      <td>2149.0</td>\n",
       "      <td>2098.0</td>\n",
       "      <td>NaN</td>\n",
       "      <td>1975.0</td>\n",
       "      <td>M</td>\n",
       "      <td>0</td>\n",
       "      <td>['FIDE Master (FM)', '2006']</td>\n",
       "      <td>NaN</td>\n",
       "      <td>NaN</td>\n",
       "      <td>NaN</td>\n",
       "      <td>2006.0</td>\n",
       "      <td>NaN</td>\n",
       "      <td>NaN</td>\n",
       "      <td>NaN</td>\n",
       "      <td>NaN</td>\n",
       "    </tr>\n",
       "    <tr>\n",
       "      <th>8951</th>\n",
       "      <td>4633563</td>\n",
       "      <td>Eichler, Christoph</td>\n",
       "      <td>FM</td>\n",
       "      <td>NaN</td>\n",
       "      <td>GER</td>\n",
       "      <td>2301.0</td>\n",
       "      <td>NaN</td>\n",
       "      <td>NaN</td>\n",
       "      <td>1977.0</td>\n",
       "      <td>M</td>\n",
       "      <td>1</td>\n",
       "      <td>NaN</td>\n",
       "      <td>NaN</td>\n",
       "      <td>NaN</td>\n",
       "      <td>NaN</td>\n",
       "      <td>NaN</td>\n",
       "      <td>NaN</td>\n",
       "      <td>NaN</td>\n",
       "      <td>NaN</td>\n",
       "      <td>NaN</td>\n",
       "    </tr>\n",
       "  </tbody>\n",
       "</table>\n",
       "</div>"
      ],
      "text/plain": [
       "            id                 nom titre woman_titre pays  classique  rapide  \\\n",
       "679     701599     Demeter, Istvan    FM         NaN  HUN     1995.0     NaN   \n",
       "2106  14105152     Chemeris, Roman    FM         NaN  UKR     2333.0     NaN   \n",
       "5054   4106970  Stepovaia, Tatiana   WGM         WGM  RUS     2305.0     NaN   \n",
       "7984    701327        Fancsy, Imre    IM         NaN  HUN     2346.0  2371.0   \n",
       "8259   4150813      Apalev, Sergey    FM         NaN  RUS     2149.0  2098.0   \n",
       "8951   4633563  Eichler, Christoph    FM         NaN  GER     2301.0     NaN   \n",
       "\n",
       "       blitz  naissance sexe  actif  \\\n",
       "679      NaN     1946.0    M      1   \n",
       "2106     NaN     1956.0    M      0   \n",
       "5054     NaN     1965.0    F      0   \n",
       "7984  2349.0     1974.0    M      1   \n",
       "8259     NaN     1975.0    M      0   \n",
       "8951     NaN     1977.0    M      1   \n",
       "\n",
       "                                            titre_dates  \\\n",
       "679                                                 NaN   \n",
       "2106                       ['FIDE Master (FM)', '2007']   \n",
       "5054  ['Woman Grandmaster (WGM)', '1992', 'Woman Int...   \n",
       "7984              ['International Master (IM)', '1993']   \n",
       "8259                       ['FIDE Master (FM)', '2006']   \n",
       "8951                                                NaN   \n",
       "\n",
       "      Woman Candidate Master (WCM)  Candidate Master (CM)  \\\n",
       "679                            NaN                    NaN   \n",
       "2106                           NaN                    NaN   \n",
       "5054                           NaN                    NaN   \n",
       "7984                           NaN                    NaN   \n",
       "8259                           NaN                    NaN   \n",
       "8951                           NaN                    NaN   \n",
       "\n",
       "      Woman FIDE Master (WFM)  FIDE Master (FM)  \\\n",
       "679                       NaN               NaN   \n",
       "2106                      NaN            2007.0   \n",
       "5054                      NaN               NaN   \n",
       "7984                      NaN               NaN   \n",
       "8259                      NaN            2006.0   \n",
       "8951                      NaN               NaN   \n",
       "\n",
       "      Woman International Master (WIM)  International Master (IM)  \\\n",
       "679                                NaN                        NaN   \n",
       "2106                               NaN                        NaN   \n",
       "5054                            1988.0                        NaN   \n",
       "7984                               NaN                     1993.0   \n",
       "8259                               NaN                        NaN   \n",
       "8951                               NaN                        NaN   \n",
       "\n",
       "      Woman Grandmaster (WGM)  Grandmaster (GM)  \n",
       "679                       NaN               NaN  \n",
       "2106                      NaN               NaN  \n",
       "5054                   1992.0               NaN  \n",
       "7984                      NaN               NaN  \n",
       "8259                      NaN               NaN  \n",
       "8951                      NaN               NaN  "
      ]
     },
     "execution_count": 338,
     "metadata": {},
     "output_type": "execute_result"
    }
   ],
   "source": [
    "df2[df2['id'].isin(joueurs)]"
   ]
  },
  {
   "cell_type": "markdown",
   "id": "bf161c70",
   "metadata": {},
   "source": [
    "Nettoie un peu les données"
   ]
  },
  {
   "cell_type": "code",
   "execution_count": 339,
   "id": "13d4e84e",
   "metadata": {},
   "outputs": [],
   "source": [
    "df = df.replace({' ': np.nan}).copy()"
   ]
  },
  {
   "cell_type": "code",
   "execution_count": 340,
   "id": "dcec738c",
   "metadata": {},
   "outputs": [],
   "source": [
    "for i in df.columns[1:]:\n",
    "    df[i] = df[i].str.strip()"
   ]
  },
  {
   "cell_type": "code",
   "execution_count": 356,
   "id": "815a380e",
   "metadata": {},
   "outputs": [],
   "source": [
    "# Convertir les colonnes de types objets en float\n",
    "numeric_cols = df.head().select_dtypes('object').columns"
   ]
  },
  {
   "cell_type": "code",
   "execution_count": 359,
   "id": "daa04ed3",
   "metadata": {},
   "outputs": [],
   "source": [
    "df[numeric_cols] = df[numeric_cols].astype('float')"
   ]
  },
  {
   "cell_type": "code",
   "execution_count": 363,
   "id": "1d028345",
   "metadata": {},
   "outputs": [],
   "source": [
    "from datetime import datetime\n",
    "date_parser = lambda x: datetime.strptime(x,'%Y-%b')"
   ]
  },
  {
   "cell_type": "code",
   "execution_count": 364,
   "id": "d30e015d",
   "metadata": {},
   "outputs": [],
   "source": [
    "df['date'] = pd.to_datetime(df['date'],format='%Y-%b')"
   ]
  },
  {
   "cell_type": "markdown",
   "id": "7a7b7171",
   "metadata": {},
   "source": [
    "Les fichiers étants volimineux nous allons les ziper pour les rendre plus léger"
   ]
  },
  {
   "cell_type": "code",
   "execution_count": 365,
   "id": "47d4db2d",
   "metadata": {},
   "outputs": [],
   "source": [
    "df.to_csv('players_rating_clean.csv')\n",
    "df.to_pickle('players_rating_clean.zip')"
   ]
  },
  {
   "cell_type": "code",
   "execution_count": 278,
   "id": "a139896a",
   "metadata": {},
   "outputs": [],
   "source": [
    "# df = pd.read_csv('players_rating_clean.csv', index_col = 0, date_parser = date_parser, parse_dates = [2])"
   ]
  },
  {
   "cell_type": "markdown",
   "id": "4ff1072f",
   "metadata": {},
   "source": [
    "Vérifions que le zip marche bien"
   ]
  },
  {
   "cell_type": "code",
   "execution_count": 367,
   "id": "56fbcf59",
   "metadata": {
    "scrolled": true
   },
   "outputs": [
    {
     "name": "stdout",
     "output_type": "stream",
     "text": [
      "<class 'pandas.core.frame.DataFrame'>\n",
      "Int64Index: 2835829 entries, 0 to 2835828\n",
      "Data columns (total 8 columns):\n",
      " #   Column             Dtype         \n",
      "---  ------             -----         \n",
      " 0   id                 int64         \n",
      " 1   date               datetime64[ns]\n",
      " 2   classique_elo      float64       \n",
      " 3   classique_parties  float64       \n",
      " 4   rapide_elo         float64       \n",
      " 5   rapide_parties     float64       \n",
      " 6   blitz_elo          float64       \n",
      " 7   blitz_parties      float64       \n",
      "dtypes: datetime64[ns](1), float64(6), int64(1)\n",
      "memory usage: 194.7 MB\n",
      "None\n"
     ]
    },
    {
     "data": {
      "text/html": [
       "<div>\n",
       "<style scoped>\n",
       "    .dataframe tbody tr th:only-of-type {\n",
       "        vertical-align: middle;\n",
       "    }\n",
       "\n",
       "    .dataframe tbody tr th {\n",
       "        vertical-align: top;\n",
       "    }\n",
       "\n",
       "    .dataframe thead th {\n",
       "        text-align: right;\n",
       "    }\n",
       "</style>\n",
       "<table border=\"1\" class=\"dataframe\">\n",
       "  <thead>\n",
       "    <tr style=\"text-align: right;\">\n",
       "      <th></th>\n",
       "      <th>id</th>\n",
       "      <th>date</th>\n",
       "      <th>classique_elo</th>\n",
       "      <th>classique_parties</th>\n",
       "      <th>rapide_elo</th>\n",
       "      <th>rapide_parties</th>\n",
       "      <th>blitz_elo</th>\n",
       "      <th>blitz_parties</th>\n",
       "    </tr>\n",
       "  </thead>\n",
       "  <tbody>\n",
       "    <tr>\n",
       "      <th>0</th>\n",
       "      <td>4611870</td>\n",
       "      <td>2021-09-01</td>\n",
       "      <td>2290.0</td>\n",
       "      <td>0.0</td>\n",
       "      <td>NaN</td>\n",
       "      <td>NaN</td>\n",
       "      <td>NaN</td>\n",
       "      <td>NaN</td>\n",
       "    </tr>\n",
       "    <tr>\n",
       "      <th>1</th>\n",
       "      <td>4611870</td>\n",
       "      <td>2021-08-01</td>\n",
       "      <td>2290.0</td>\n",
       "      <td>0.0</td>\n",
       "      <td>NaN</td>\n",
       "      <td>NaN</td>\n",
       "      <td>NaN</td>\n",
       "      <td>NaN</td>\n",
       "    </tr>\n",
       "    <tr>\n",
       "      <th>2</th>\n",
       "      <td>4611870</td>\n",
       "      <td>2021-07-01</td>\n",
       "      <td>2290.0</td>\n",
       "      <td>0.0</td>\n",
       "      <td>NaN</td>\n",
       "      <td>NaN</td>\n",
       "      <td>NaN</td>\n",
       "      <td>NaN</td>\n",
       "    </tr>\n",
       "    <tr>\n",
       "      <th>3</th>\n",
       "      <td>4611870</td>\n",
       "      <td>2021-06-01</td>\n",
       "      <td>2290.0</td>\n",
       "      <td>0.0</td>\n",
       "      <td>NaN</td>\n",
       "      <td>NaN</td>\n",
       "      <td>NaN</td>\n",
       "      <td>NaN</td>\n",
       "    </tr>\n",
       "    <tr>\n",
       "      <th>4</th>\n",
       "      <td>4611870</td>\n",
       "      <td>2021-05-01</td>\n",
       "      <td>2290.0</td>\n",
       "      <td>0.0</td>\n",
       "      <td>NaN</td>\n",
       "      <td>NaN</td>\n",
       "      <td>NaN</td>\n",
       "      <td>NaN</td>\n",
       "    </tr>\n",
       "  </tbody>\n",
       "</table>\n",
       "</div>"
      ],
      "text/plain": [
       "        id       date  classique_elo  classique_parties  rapide_elo  \\\n",
       "0  4611870 2021-09-01         2290.0                0.0         NaN   \n",
       "1  4611870 2021-08-01         2290.0                0.0         NaN   \n",
       "2  4611870 2021-07-01         2290.0                0.0         NaN   \n",
       "3  4611870 2021-06-01         2290.0                0.0         NaN   \n",
       "4  4611870 2021-05-01         2290.0                0.0         NaN   \n",
       "\n",
       "   rapide_parties  blitz_elo  blitz_parties  \n",
       "0             NaN        NaN            NaN  \n",
       "1             NaN        NaN            NaN  \n",
       "2             NaN        NaN            NaN  \n",
       "3             NaN        NaN            NaN  \n",
       "4             NaN        NaN            NaN  "
      ]
     },
     "execution_count": 367,
     "metadata": {},
     "output_type": "execute_result"
    }
   ],
   "source": [
    "data = pd.read_pickle('players_rating_clean.zip')\n",
    "print(data.info())\n",
    "data.head()"
   ]
  },
  {
   "cell_type": "code",
   "execution_count": 366,
   "id": "f641d992",
   "metadata": {},
   "outputs": [],
   "source": [
    "# pd.read_csv('players_rating_clean.csv', index_col = 0).info()"
   ]
  },
  {
   "cell_type": "code",
   "execution_count": null,
   "id": "60821ba4",
   "metadata": {},
   "outputs": [],
   "source": []
  }
 ],
 "metadata": {
  "kernelspec": {
   "display_name": "Python 3.8 (tensorflow)",
   "language": "python",
   "name": "tensorflow"
  },
  "language_info": {
   "codemirror_mode": {
    "name": "ipython",
    "version": 3
   },
   "file_extension": ".py",
   "mimetype": "text/x-python",
   "name": "python",
   "nbconvert_exporter": "python",
   "pygments_lexer": "ipython3",
   "version": "3.8.8"
  }
 },
 "nbformat": 4,
 "nbformat_minor": 5
}
