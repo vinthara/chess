{
 "cells": [
  {
   "cell_type": "code",
   "execution_count": 1,
   "id": "122cc34e",
   "metadata": {},
   "outputs": [],
   "source": [
    "import pandas as pd\n",
    "import numpy as np\n",
    "import requests\n",
    "from bs4 import BeautifulSoup\n",
    "import re"
   ]
  },
  {
   "cell_type": "markdown",
   "id": "c55dd548",
   "metadata": {},
   "source": [
    "# 1 - Web scrapping\n",
    "Nous allons récupérer les données sur le site de la [FIDE](https://ratings.fide.com/advseek.phtml) (Fédération Internationale Des Echecs), une organisation qui gère les fédérations nationales ainsi que les compétitions mondiales. \n",
    "\n",
    "Nous allons nous intéresser uniquement aux joueurs titrés : WFM et + ou tous les joueurs titrés"
   ]
  },
  {
   "cell_type": "markdown",
   "id": "a4081458",
   "metadata": {},
   "source": [
    "Etant donnné que les liens pour le scrapping ne sont pas fonctionnels (ou pas à tester)"
   ]
  },
  {
   "cell_type": "code",
   "execution_count": 2,
   "id": "f74d15b8",
   "metadata": {},
   "outputs": [],
   "source": [
    "def find_titled_years():\n",
    "    year = 1908\n",
    "    titled_year = {}\n",
    "    for i in range(year,2018):\n",
    "        url = 'https://ratings.fide.com/advaction.phtml?idcode=&name=&title=all_g&other_title=&country=%25&sex=&srating=0&erating=3000&birthday='+str(i)+'&radio=name&line=asc'\n",
    "        html_text = requests.get(url).text\n",
    "        soup = BeautifulSoup(html_text, 'html.parser')\n",
    "        num = (soup.find('b').text)\n",
    "        if num != '0':\n",
    "            titled_year[i] = num\n",
    "    return titled_year"
   ]
  },
  {
   "cell_type": "code",
   "execution_count": 3,
   "id": "51ad652b",
   "metadata": {},
   "outputs": [
    {
     "name": "stdout",
     "output_type": "stream",
     "text": [
      "Wall time: 35.3 s\n"
     ]
    }
   ],
   "source": [
    "%%time\n",
    "#takes about 30sec to run\n",
    "titled_year = find_titled_years()"
   ]
  },
  {
   "cell_type": "markdown",
   "id": "71dbd81c",
   "metadata": {},
   "source": [
    "Nous avons des joueurs titrés pour des personnes qui sont nées de 1920 à 2011, sauf l'an 1924"
   ]
  },
  {
   "cell_type": "code",
   "execution_count": 4,
   "id": "1d4c673e",
   "metadata": {},
   "outputs": [],
   "source": [
    "titled_year;"
   ]
  },
  {
   "cell_type": "markdown",
   "id": "a13cccd3",
   "metadata": {},
   "source": [
    "Fonction pour récupere toutes les données des joueurs"
   ]
  },
  {
   "cell_type": "code",
   "execution_count": 9,
   "id": "be1ebca7",
   "metadata": {},
   "outputs": [
    {
     "name": "stdout",
     "output_type": "stream",
     "text": [
      "Wall time: 2min 59s\n"
     ]
    }
   ],
   "source": [
    "%%time\n",
    "def scrap_players():\n",
    "    url_1 = 'https://ratings.fide.com/advaction.phtml?idcode=&name=&title=all_g&other_title=&country=&sex=&srating=0&erating=3000&birthday='\n",
    "    url_3 = '&radio=name&ex_rated=&line=asc&inactiv=&offset=' \n",
    "    titled_year = find_titled_years()\n",
    "    merge = []\n",
    "    for year in titled_year.keys():\n",
    "        maximum = int(titled_year[year])\n",
    "        #getting the url\n",
    "        \n",
    "        for amount in range(0,maximum,100):\n",
    "            #Creation de l'url\n",
    "            url = url_1 + str(year) + url_3 + str(amount)\n",
    "            html_text = requests.get(url).text\n",
    "            soup = BeautifulSoup(html_text, 'html.parser')\n",
    "            #Trouve les bonnes balises pour extraire la data\n",
    "            soup_tr = soup.find_all('tr', {'bgcolor':re.compile(r'#*')})\n",
    "            for td in soup_tr:\n",
    "                merge = merge + td.find_all('td')\n",
    "    for i in range(len(merge)):\n",
    "        merge[i] = re.sub(r'(\\xa0)+',' ', merge[i].text)\n",
    "\n",
    "    array = np.reshape(merge,(-1,12))\n",
    "    return  pd.DataFrame(data = array,\n",
    "                         columns=['IDcode','Name','T','WT','Oth. T.', 'Fed', 'Rtg', 'Rpd', 'Blz' ,'B-Year', 'S' ,'F'])\n",
    "df = scrap_players()\n"
   ]
  },
  {
   "cell_type": "markdown",
   "id": "159b6451",
   "metadata": {},
   "source": [
    "Voila! Enregistions le dans un csv puisque le code prend assez de temps à récupérer les données"
   ]
  },
  {
   "cell_type": "code",
   "execution_count": 10,
   "id": "e1348729",
   "metadata": {},
   "outputs": [
    {
     "data": {
      "text/html": [
       "<div>\n",
       "<style scoped>\n",
       "    .dataframe tbody tr th:only-of-type {\n",
       "        vertical-align: middle;\n",
       "    }\n",
       "\n",
       "    .dataframe tbody tr th {\n",
       "        vertical-align: top;\n",
       "    }\n",
       "\n",
       "    .dataframe thead th {\n",
       "        text-align: right;\n",
       "    }\n",
       "</style>\n",
       "<table border=\"1\" class=\"dataframe\">\n",
       "  <thead>\n",
       "    <tr style=\"text-align: right;\">\n",
       "      <th></th>\n",
       "      <th>IDcode</th>\n",
       "      <th>Name</th>\n",
       "      <th>T</th>\n",
       "      <th>WT</th>\n",
       "      <th>Oth. T.</th>\n",
       "      <th>Fed</th>\n",
       "      <th>Rtg</th>\n",
       "      <th>Rpd</th>\n",
       "      <th>Blz</th>\n",
       "      <th>B-Year</th>\n",
       "      <th>S</th>\n",
       "      <th>F</th>\n",
       "    </tr>\n",
       "  </thead>\n",
       "  <tbody>\n",
       "    <tr>\n",
       "      <th>0</th>\n",
       "      <td>5813298</td>\n",
       "      <td>Lim, Kok Ann</td>\n",
       "      <td>CM</td>\n",
       "      <td></td>\n",
       "      <td></td>\n",
       "      <td>SGP</td>\n",
       "      <td></td>\n",
       "      <td></td>\n",
       "      <td></td>\n",
       "      <td>1920</td>\n",
       "      <td>M</td>\n",
       "      <td></td>\n",
       "    </tr>\n",
       "    <tr>\n",
       "      <th>1</th>\n",
       "      <td>4611870</td>\n",
       "      <td>Keller-Hermann, Edith</td>\n",
       "      <td>WGM</td>\n",
       "      <td>WGM</td>\n",
       "      <td></td>\n",
       "      <td>GER</td>\n",
       "      <td>2290</td>\n",
       "      <td></td>\n",
       "      <td></td>\n",
       "      <td>1921</td>\n",
       "      <td>F</td>\n",
       "      <td>i</td>\n",
       "    </tr>\n",
       "    <tr>\n",
       "      <th>2</th>\n",
       "      <td>2002310</td>\n",
       "      <td>Levy, Louis</td>\n",
       "      <td>FM</td>\n",
       "      <td></td>\n",
       "      <td></td>\n",
       "      <td>USA</td>\n",
       "      <td>2275</td>\n",
       "      <td></td>\n",
       "      <td></td>\n",
       "      <td>1921</td>\n",
       "      <td>M</td>\n",
       "      <td>i</td>\n",
       "    </tr>\n",
       "    <tr>\n",
       "      <th>3</th>\n",
       "      <td>14100657</td>\n",
       "      <td>Ousatchi, Mark</td>\n",
       "      <td>FM</td>\n",
       "      <td></td>\n",
       "      <td></td>\n",
       "      <td>GER</td>\n",
       "      <td>2157</td>\n",
       "      <td></td>\n",
       "      <td></td>\n",
       "      <td>1921</td>\n",
       "      <td>M</td>\n",
       "      <td>i</td>\n",
       "    </tr>\n",
       "    <tr>\n",
       "      <th>4</th>\n",
       "      <td>4101529</td>\n",
       "      <td>Averbakh, Yuri L</td>\n",
       "      <td>GM</td>\n",
       "      <td></td>\n",
       "      <td></td>\n",
       "      <td>RUS</td>\n",
       "      <td>2445</td>\n",
       "      <td></td>\n",
       "      <td></td>\n",
       "      <td>1922</td>\n",
       "      <td>M</td>\n",
       "      <td>i</td>\n",
       "    </tr>\n",
       "    <tr>\n",
       "      <th>...</th>\n",
       "      <td>...</td>\n",
       "      <td>...</td>\n",
       "      <td>...</td>\n",
       "      <td>...</td>\n",
       "      <td>...</td>\n",
       "      <td>...</td>\n",
       "      <td>...</td>\n",
       "      <td>...</td>\n",
       "      <td>...</td>\n",
       "      <td>...</td>\n",
       "      <td>...</td>\n",
       "      <td>...</td>\n",
       "    </tr>\n",
       "    <tr>\n",
       "      <th>19505</th>\n",
       "      <td>24250775</td>\n",
       "      <td>Zverev, Lev</td>\n",
       "      <td>CM</td>\n",
       "      <td></td>\n",
       "      <td></td>\n",
       "      <td>RUS</td>\n",
       "      <td>2163</td>\n",
       "      <td>2104</td>\n",
       "      <td>2186</td>\n",
       "      <td>2010</td>\n",
       "      <td>M</td>\n",
       "      <td></td>\n",
       "    </tr>\n",
       "    <tr>\n",
       "      <th>19506</th>\n",
       "      <td>13429990</td>\n",
       "      <td>Bashirli, Saadat</td>\n",
       "      <td>WCM</td>\n",
       "      <td>WCM</td>\n",
       "      <td></td>\n",
       "      <td>AZE</td>\n",
       "      <td>1284</td>\n",
       "      <td>1344</td>\n",
       "      <td>1153</td>\n",
       "      <td>2011</td>\n",
       "      <td>F</td>\n",
       "      <td></td>\n",
       "    </tr>\n",
       "    <tr>\n",
       "      <th>19507</th>\n",
       "      <td>44599790</td>\n",
       "      <td>Erdogmus, Yagiz Kaan</td>\n",
       "      <td>CM</td>\n",
       "      <td></td>\n",
       "      <td></td>\n",
       "      <td>TUR</td>\n",
       "      <td>2150</td>\n",
       "      <td>1442</td>\n",
       "      <td>1783</td>\n",
       "      <td>2011</td>\n",
       "      <td>M</td>\n",
       "      <td></td>\n",
       "    </tr>\n",
       "    <tr>\n",
       "      <th>19508</th>\n",
       "      <td>169013</td>\n",
       "      <td>Schnaider, Ilan</td>\n",
       "      <td>CM</td>\n",
       "      <td></td>\n",
       "      <td></td>\n",
       "      <td>ARG</td>\n",
       "      <td>2154</td>\n",
       "      <td>1723</td>\n",
       "      <td>1800</td>\n",
       "      <td>2011</td>\n",
       "      <td>M</td>\n",
       "      <td></td>\n",
       "    </tr>\n",
       "    <tr>\n",
       "      <th>19509</th>\n",
       "      <td>13730150</td>\n",
       "      <td>Zhumagali, Raian</td>\n",
       "      <td>WCM</td>\n",
       "      <td>WCM</td>\n",
       "      <td></td>\n",
       "      <td>KAZ</td>\n",
       "      <td>1261</td>\n",
       "      <td>1289</td>\n",
       "      <td>1361</td>\n",
       "      <td>2011</td>\n",
       "      <td>F</td>\n",
       "      <td></td>\n",
       "    </tr>\n",
       "  </tbody>\n",
       "</table>\n",
       "<p>19510 rows × 12 columns</p>\n",
       "</div>"
      ],
      "text/plain": [
       "          IDcode                    Name     T    WT Oth. T.  Fed    Rtg  \\\n",
       "0        5813298            Lim, Kok Ann    CM                SGP          \n",
       "1        4611870   Keller-Hermann, Edith   WGM   WGM          GER  2290    \n",
       "2        2002310             Levy, Louis    FM                USA  2275    \n",
       "3       14100657          Ousatchi, Mark    FM                GER  2157    \n",
       "4        4101529        Averbakh, Yuri L    GM                RUS  2445    \n",
       "...          ...                     ...   ...   ...     ...  ...    ...   \n",
       "19505   24250775             Zverev, Lev    CM                RUS  2163    \n",
       "19506   13429990        Bashirli, Saadat   WCM   WCM          AZE  1284    \n",
       "19507   44599790    Erdogmus, Yagiz Kaan    CM                TUR  2150    \n",
       "19508     169013         Schnaider, Ilan    CM                ARG  2154    \n",
       "19509   13730150        Zhumagali, Raian   WCM   WCM          KAZ  1261    \n",
       "\n",
       "          Rpd     Blz B-Year  S  F  \n",
       "0                       1920  M     \n",
       "1                       1921  F  i  \n",
       "2                       1921  M  i  \n",
       "3                       1921  M  i  \n",
       "4                       1922  M  i  \n",
       "...       ...     ...    ... .. ..  \n",
       "19505   2104    2186    2010  M     \n",
       "19506   1344    1153    2011  F     \n",
       "19507   1442    1783    2011  M     \n",
       "19508   1723    1800    2011  M     \n",
       "19509   1289    1361    2011  F     \n",
       "\n",
       "[19510 rows x 12 columns]"
      ]
     },
     "execution_count": 10,
     "metadata": {},
     "output_type": "execute_result"
    }
   ],
   "source": [
    "df"
   ]
  },
  {
   "cell_type": "code",
   "execution_count": 11,
   "id": "9dce7754",
   "metadata": {},
   "outputs": [],
   "source": [
    "df.to_csv('titled_players.csv')"
   ]
  },
  {
   "cell_type": "code",
   "execution_count": 12,
   "id": "21dc87e9",
   "metadata": {},
   "outputs": [],
   "source": [
    "df = pd.read_csv('titled_players.csv', index_col = 0)"
   ]
  },
  {
   "cell_type": "markdown",
   "id": "ba8e04a4",
   "metadata": {},
   "source": [
    "Voyons voir si la Russie ou l'URSS est le pays qui possède le plus de joueurs titrés"
   ]
  },
  {
   "cell_type": "code",
   "execution_count": 13,
   "id": "0b9e1ab6",
   "metadata": {
    "scrolled": true
   },
   "outputs": [
    {
     "data": {
      "text/plain": [
       "RUS    13.316248\n",
       "GER     7.524346\n",
       "USA     4.146591\n",
       "ESP     3.552025\n",
       "SRB     3.018965\n",
       "         ...    \n",
       "SEN     0.005126\n",
       "TAN     0.005126\n",
       "TLS     0.005126\n",
       "CAM     0.005126\n",
       "BDI     0.005126\n",
       "Name: Fed, Length: 180, dtype: float64"
      ]
     },
     "execution_count": 13,
     "metadata": {},
     "output_type": "execute_result"
    }
   ],
   "source": [
    "df['Fed'].value_counts(normalize = True) * 100"
   ]
  },
  {
   "cell_type": "markdown",
   "id": "f49e6485",
   "metadata": {},
   "source": [
    "En effet c'est bien le cas"
   ]
  },
  {
   "cell_type": "code",
   "execution_count": null,
   "id": "5569c5bb",
   "metadata": {},
   "outputs": [],
   "source": []
  }
 ],
 "metadata": {
  "kernelspec": {
   "display_name": "Python 3",
   "language": "python",
   "name": "python3"
  },
  "language_info": {
   "codemirror_mode": {
    "name": "ipython",
    "version": 3
   },
   "file_extension": ".py",
   "mimetype": "text/x-python",
   "name": "python",
   "nbconvert_exporter": "python",
   "pygments_lexer": "ipython3",
   "version": "3.8.8"
  }
 },
 "nbformat": 4,
 "nbformat_minor": 5
}
