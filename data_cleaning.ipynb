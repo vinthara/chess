{
 "cells": [
  {
   "cell_type": "code",
   "execution_count": 1,
   "id": "25291b4e",
   "metadata": {},
   "outputs": [],
   "source": [
    "import numpy as np\n",
    "import pandas as pd\n",
    "import ast"
   ]
  },
  {
   "cell_type": "code",
   "execution_count": 2,
   "id": "4c6bfdcb",
   "metadata": {},
   "outputs": [],
   "source": [
    "df = pd.read_csv('titled_players_raw.csv',index_col=0)"
   ]
  },
  {
   "cell_type": "code",
   "execution_count": 3,
   "id": "ca9ff95b",
   "metadata": {},
   "outputs": [
    {
     "data": {
      "text/html": [
       "<div>\n",
       "<style scoped>\n",
       "    .dataframe tbody tr th:only-of-type {\n",
       "        vertical-align: middle;\n",
       "    }\n",
       "\n",
       "    .dataframe tbody tr th {\n",
       "        vertical-align: top;\n",
       "    }\n",
       "\n",
       "    .dataframe thead th {\n",
       "        text-align: right;\n",
       "    }\n",
       "</style>\n",
       "<table border=\"1\" class=\"dataframe\">\n",
       "  <thead>\n",
       "    <tr style=\"text-align: right;\">\n",
       "      <th></th>\n",
       "      <th>IDcode</th>\n",
       "      <th>Name</th>\n",
       "      <th>T</th>\n",
       "      <th>WT</th>\n",
       "      <th>Oth. T.</th>\n",
       "      <th>Fed</th>\n",
       "      <th>Rtg</th>\n",
       "      <th>Rpd</th>\n",
       "      <th>Blz</th>\n",
       "      <th>B-Year</th>\n",
       "      <th>S</th>\n",
       "      <th>F</th>\n",
       "      <th>Title</th>\n",
       "    </tr>\n",
       "  </thead>\n",
       "  <tbody>\n",
       "    <tr>\n",
       "      <th>0</th>\n",
       "      <td>5813298</td>\n",
       "      <td>Lim, Kok Ann</td>\n",
       "      <td>CM</td>\n",
       "      <td></td>\n",
       "      <td></td>\n",
       "      <td>SGP</td>\n",
       "      <td></td>\n",
       "      <td></td>\n",
       "      <td></td>\n",
       "      <td>1920</td>\n",
       "      <td>M</td>\n",
       "      <td></td>\n",
       "      <td>['Candidate Master (CM)', '2012']</td>\n",
       "    </tr>\n",
       "    <tr>\n",
       "      <th>1</th>\n",
       "      <td>4611870</td>\n",
       "      <td>Keller-Hermann, Edith</td>\n",
       "      <td>WGM</td>\n",
       "      <td>WGM</td>\n",
       "      <td></td>\n",
       "      <td>GER</td>\n",
       "      <td>2290</td>\n",
       "      <td></td>\n",
       "      <td></td>\n",
       "      <td>1921</td>\n",
       "      <td>F</td>\n",
       "      <td>i</td>\n",
       "      <td>['Woman Grandmaster (WGM)', '1978', 'Woman Int...</td>\n",
       "    </tr>\n",
       "    <tr>\n",
       "      <th>2</th>\n",
       "      <td>2002310</td>\n",
       "      <td>Levy, Louis</td>\n",
       "      <td>FM</td>\n",
       "      <td></td>\n",
       "      <td></td>\n",
       "      <td>USA</td>\n",
       "      <td>2275</td>\n",
       "      <td></td>\n",
       "      <td></td>\n",
       "      <td>1921</td>\n",
       "      <td>M</td>\n",
       "      <td>i</td>\n",
       "      <td>[]</td>\n",
       "    </tr>\n",
       "    <tr>\n",
       "      <th>3</th>\n",
       "      <td>14100657</td>\n",
       "      <td>Ousatchi, Mark</td>\n",
       "      <td>FM</td>\n",
       "      <td></td>\n",
       "      <td></td>\n",
       "      <td>GER</td>\n",
       "      <td>2157</td>\n",
       "      <td></td>\n",
       "      <td></td>\n",
       "      <td>1921</td>\n",
       "      <td>M</td>\n",
       "      <td>i</td>\n",
       "      <td>[]</td>\n",
       "    </tr>\n",
       "    <tr>\n",
       "      <th>4</th>\n",
       "      <td>4101529</td>\n",
       "      <td>Averbakh, Yuri L</td>\n",
       "      <td>GM</td>\n",
       "      <td></td>\n",
       "      <td></td>\n",
       "      <td>RUS</td>\n",
       "      <td>2445</td>\n",
       "      <td></td>\n",
       "      <td></td>\n",
       "      <td>1922</td>\n",
       "      <td>M</td>\n",
       "      <td>i</td>\n",
       "      <td>['Grandmaster (GM)', '1952', 'International Ma...</td>\n",
       "    </tr>\n",
       "  </tbody>\n",
       "</table>\n",
       "</div>"
      ],
      "text/plain": [
       "     IDcode                    Name     T    WT Oth. T.  Fed    Rtg Rpd Blz  \\\n",
       "0   5813298            Lim, Kok Ann    CM                SGP                  \n",
       "1   4611870   Keller-Hermann, Edith   WGM   WGM          GER  2290            \n",
       "2   2002310             Levy, Louis    FM                USA  2275            \n",
       "3  14100657          Ousatchi, Mark    FM                GER  2157            \n",
       "4   4101529        Averbakh, Yuri L    GM                RUS  2445            \n",
       "\n",
       "  B-Year  S  F                                              Title  \n",
       "0   1920  M                     ['Candidate Master (CM)', '2012']  \n",
       "1   1921  F  i  ['Woman Grandmaster (WGM)', '1978', 'Woman Int...  \n",
       "2   1921  M  i                                                 []  \n",
       "3   1921  M  i                                                 []  \n",
       "4   1922  M  i  ['Grandmaster (GM)', '1952', 'International Ma...  "
      ]
     },
     "execution_count": 3,
     "metadata": {},
     "output_type": "execute_result"
    }
   ],
   "source": [
    "df.head()"
   ]
  },
  {
   "cell_type": "code",
   "execution_count": 4,
   "id": "8c0b3c9e",
   "metadata": {},
   "outputs": [],
   "source": [
    "df = df.replace({' ':np.nan})"
   ]
  },
  {
   "cell_type": "code",
   "execution_count": 5,
   "id": "48388edd",
   "metadata": {},
   "outputs": [
    {
     "data": {
      "text/html": [
       "<div>\n",
       "<style scoped>\n",
       "    .dataframe tbody tr th:only-of-type {\n",
       "        vertical-align: middle;\n",
       "    }\n",
       "\n",
       "    .dataframe tbody tr th {\n",
       "        vertical-align: top;\n",
       "    }\n",
       "\n",
       "    .dataframe thead th {\n",
       "        text-align: right;\n",
       "    }\n",
       "</style>\n",
       "<table border=\"1\" class=\"dataframe\">\n",
       "  <thead>\n",
       "    <tr style=\"text-align: right;\">\n",
       "      <th></th>\n",
       "      <th>IDcode</th>\n",
       "      <th>Name</th>\n",
       "      <th>T</th>\n",
       "      <th>WT</th>\n",
       "      <th>Oth. T.</th>\n",
       "      <th>Fed</th>\n",
       "      <th>Rtg</th>\n",
       "      <th>Rpd</th>\n",
       "      <th>Blz</th>\n",
       "      <th>B-Year</th>\n",
       "      <th>S</th>\n",
       "      <th>F</th>\n",
       "      <th>Title</th>\n",
       "    </tr>\n",
       "  </thead>\n",
       "  <tbody>\n",
       "    <tr>\n",
       "      <th>0</th>\n",
       "      <td>5813298</td>\n",
       "      <td>Lim, Kok Ann</td>\n",
       "      <td>CM</td>\n",
       "      <td>NaN</td>\n",
       "      <td>NaN</td>\n",
       "      <td>SGP</td>\n",
       "      <td>NaN</td>\n",
       "      <td>NaN</td>\n",
       "      <td>NaN</td>\n",
       "      <td>1920</td>\n",
       "      <td>M</td>\n",
       "      <td>NaN</td>\n",
       "      <td>['Candidate Master (CM)', '2012']</td>\n",
       "    </tr>\n",
       "    <tr>\n",
       "      <th>1</th>\n",
       "      <td>4611870</td>\n",
       "      <td>Keller-Hermann, Edith</td>\n",
       "      <td>WGM</td>\n",
       "      <td>WGM</td>\n",
       "      <td>NaN</td>\n",
       "      <td>GER</td>\n",
       "      <td>2290</td>\n",
       "      <td>NaN</td>\n",
       "      <td>NaN</td>\n",
       "      <td>1921</td>\n",
       "      <td>F</td>\n",
       "      <td>i</td>\n",
       "      <td>['Woman Grandmaster (WGM)', '1978', 'Woman Int...</td>\n",
       "    </tr>\n",
       "    <tr>\n",
       "      <th>2</th>\n",
       "      <td>2002310</td>\n",
       "      <td>Levy, Louis</td>\n",
       "      <td>FM</td>\n",
       "      <td>NaN</td>\n",
       "      <td>NaN</td>\n",
       "      <td>USA</td>\n",
       "      <td>2275</td>\n",
       "      <td>NaN</td>\n",
       "      <td>NaN</td>\n",
       "      <td>1921</td>\n",
       "      <td>M</td>\n",
       "      <td>i</td>\n",
       "      <td>[]</td>\n",
       "    </tr>\n",
       "    <tr>\n",
       "      <th>3</th>\n",
       "      <td>14100657</td>\n",
       "      <td>Ousatchi, Mark</td>\n",
       "      <td>FM</td>\n",
       "      <td>NaN</td>\n",
       "      <td>NaN</td>\n",
       "      <td>GER</td>\n",
       "      <td>2157</td>\n",
       "      <td>NaN</td>\n",
       "      <td>NaN</td>\n",
       "      <td>1921</td>\n",
       "      <td>M</td>\n",
       "      <td>i</td>\n",
       "      <td>[]</td>\n",
       "    </tr>\n",
       "    <tr>\n",
       "      <th>4</th>\n",
       "      <td>4101529</td>\n",
       "      <td>Averbakh, Yuri L</td>\n",
       "      <td>GM</td>\n",
       "      <td>NaN</td>\n",
       "      <td>NaN</td>\n",
       "      <td>RUS</td>\n",
       "      <td>2445</td>\n",
       "      <td>NaN</td>\n",
       "      <td>NaN</td>\n",
       "      <td>1922</td>\n",
       "      <td>M</td>\n",
       "      <td>i</td>\n",
       "      <td>['Grandmaster (GM)', '1952', 'International Ma...</td>\n",
       "    </tr>\n",
       "  </tbody>\n",
       "</table>\n",
       "</div>"
      ],
      "text/plain": [
       "     IDcode                    Name     T    WT Oth. T.  Fed    Rtg  Rpd  Blz  \\\n",
       "0   5813298            Lim, Kok Ann    CM   NaN     NaN  SGP    NaN  NaN  NaN   \n",
       "1   4611870   Keller-Hermann, Edith   WGM   WGM     NaN  GER  2290   NaN  NaN   \n",
       "2   2002310             Levy, Louis    FM   NaN     NaN  USA  2275   NaN  NaN   \n",
       "3  14100657          Ousatchi, Mark    FM   NaN     NaN  GER  2157   NaN  NaN   \n",
       "4   4101529        Averbakh, Yuri L    GM   NaN     NaN  RUS  2445   NaN  NaN   \n",
       "\n",
       "  B-Year  S    F                                              Title  \n",
       "0   1920  M  NaN                  ['Candidate Master (CM)', '2012']  \n",
       "1   1921  F    i  ['Woman Grandmaster (WGM)', '1978', 'Woman Int...  \n",
       "2   1921  M    i                                                 []  \n",
       "3   1921  M    i                                                 []  \n",
       "4   1922  M    i  ['Grandmaster (GM)', '1952', 'International Ma...  "
      ]
     },
     "execution_count": 5,
     "metadata": {},
     "output_type": "execute_result"
    }
   ],
   "source": [
    "df.head()"
   ]
  },
  {
   "cell_type": "code",
   "execution_count": 6,
   "id": "17ac86dc",
   "metadata": {},
   "outputs": [
    {
     "name": "stdout",
     "output_type": "stream",
     "text": [
      "<class 'pandas.core.frame.DataFrame'>\n",
      "Int64Index: 19510 entries, 0 to 19509\n",
      "Data columns (total 13 columns):\n",
      " #   Column   Non-Null Count  Dtype \n",
      "---  ------   --------------  ----- \n",
      " 0   IDcode   19510 non-null  int64 \n",
      " 1   Name     19510 non-null  object\n",
      " 2   T        19510 non-null  object\n",
      " 3   WT       3929 non-null   object\n",
      " 4   Oth. T.  105 non-null    object\n",
      " 5   Fed      19510 non-null  object\n",
      " 6   Rtg      19436 non-null  object\n",
      " 7   Rpd      11811 non-null  object\n",
      " 8   Blz      12074 non-null  object\n",
      " 9   B-Year   19508 non-null  object\n",
      " 10  S        19510 non-null  object\n",
      " 11  F        8260 non-null   object\n",
      " 12  Title    19510 non-null  object\n",
      "dtypes: int64(1), object(12)\n",
      "memory usage: 2.1+ MB\n"
     ]
    }
   ],
   "source": [
    "df.info()"
   ]
  },
  {
   "cell_type": "markdown",
   "id": "088771f0",
   "metadata": {},
   "source": [
    "La colonne Oth. T. est vide à 99% et nous donne des informations sur les joueurs ayant reçu des titres pour l'arbritrage. Cela ne nous intéresse pas.\n",
    "\n",
    "Eliminons la"
   ]
  },
  {
   "cell_type": "code",
   "execution_count": 7,
   "id": "511f4393",
   "metadata": {},
   "outputs": [],
   "source": [
    "df = df.drop('Oth. T.', axis=1)"
   ]
  },
  {
   "cell_type": "markdown",
   "id": "4b87d592",
   "metadata": {},
   "source": [
    "La colonne WT est vide à 79%"
   ]
  },
  {
   "cell_type": "code",
   "execution_count": 8,
   "id": "b0e7ed90",
   "metadata": {},
   "outputs": [
    {
     "data": {
      "text/plain": [
       "NaN     0.798616\n",
       " WFM    0.091748\n",
       " WIM    0.043875\n",
       " WCM    0.041312\n",
       " WGM    0.024398\n",
       " WH     0.000051\n",
       "Name: WT, dtype: float64"
      ]
     },
     "execution_count": 8,
     "metadata": {},
     "output_type": "execute_result"
    }
   ],
   "source": [
    "df['WT'].value_counts(normalize=True, dropna=False)"
   ]
  },
  {
   "cell_type": "markdown",
   "id": "8e38ca26",
   "metadata": {},
   "source": [
    "Néanmoins 79% des titres sont détenus par les hommes"
   ]
  },
  {
   "cell_type": "code",
   "execution_count": 9,
   "id": "cb0f48d3",
   "metadata": {},
   "outputs": [
    {
     "data": {
      "text/plain": [
       "M    0.797335\n",
       "F    0.202665\n",
       "Name: S, dtype: float64"
      ]
     },
     "execution_count": 9,
     "metadata": {},
     "output_type": "execute_result"
    }
   ],
   "source": [
    "df['S'].value_counts(normalize=True)"
   ]
  },
  {
   "cell_type": "markdown",
   "id": "d88e2279",
   "metadata": {},
   "source": [
    "Enlevons les espaces inutiles dans les colonnes de types object"
   ]
  },
  {
   "cell_type": "code",
   "execution_count": 10,
   "id": "8ac704ea",
   "metadata": {},
   "outputs": [],
   "source": [
    "cols = df.select_dtypes(include=['object']).columns\n",
    "for col in cols:\n",
    "    df[col] = df[col].str.strip()"
   ]
  },
  {
   "cell_type": "code",
   "execution_count": 11,
   "id": "11db39c1",
   "metadata": {},
   "outputs": [],
   "source": [
    "df = df.rename(columns = {'IDcode':'id', \n",
    "           'Name':'nom',\n",
    "           'T':'title',\n",
    "           'WT':'woman_titre',\n",
    "           'Fed':'pays',\n",
    "           'Rtg':'classique',\n",
    "           'Rpd':'rapide',\n",
    "           'Blz':'blitz',\n",
    "           'B-Year':'naissance',\n",
    "           'S':'sexe',\n",
    "           'F':'actif',\n",
    "           'Title':'titre_dates'\n",
    "          })"
   ]
  },
  {
   "cell_type": "code",
   "execution_count": 12,
   "id": "38e3342d",
   "metadata": {},
   "outputs": [],
   "source": [
    "df[['classique', 'rapide', 'blitz', 'naissance']] = df[['classique', 'rapide', 'blitz', 'naissance']].astype('float')"
   ]
  },
  {
   "cell_type": "markdown",
   "id": "4b0d9f84",
   "metadata": {},
   "source": [
    "Remplaçons la colonne actif par 1 si le joueur est actif 0 sinon"
   ]
  },
  {
   "cell_type": "code",
   "execution_count": 13,
   "id": "c1a84a00",
   "metadata": {},
   "outputs": [
    {
     "data": {
      "text/plain": [
       "i    8260\n",
       "Name: actif, dtype: int64"
      ]
     },
     "execution_count": 13,
     "metadata": {},
     "output_type": "execute_result"
    }
   ],
   "source": [
    "df['actif'].value_counts()"
   ]
  },
  {
   "cell_type": "markdown",
   "id": "2245189d",
   "metadata": {},
   "source": [
    "A vérifier si l'in/activité des joueurs semble correct"
   ]
  },
  {
   "cell_type": "code",
   "execution_count": 14,
   "id": "c6ac6875",
   "metadata": {},
   "outputs": [],
   "source": [
    "df['actif'] = df['actif'].replace({'i':'0',np.nan:'1'})\n"
   ]
  },
  {
   "cell_type": "markdown",
   "id": "02651d1b",
   "metadata": {},
   "source": [
    "Il faut réfléchir à comment remplacer les obtentions de titres de chaque joueur "
   ]
  },
  {
   "cell_type": "code",
   "execution_count": 15,
   "id": "8ca84a99",
   "metadata": {
    "scrolled": true
   },
   "outputs": [
    {
     "data": {
      "text/html": [
       "<div>\n",
       "<style scoped>\n",
       "    .dataframe tbody tr th:only-of-type {\n",
       "        vertical-align: middle;\n",
       "    }\n",
       "\n",
       "    .dataframe tbody tr th {\n",
       "        vertical-align: top;\n",
       "    }\n",
       "\n",
       "    .dataframe thead th {\n",
       "        text-align: right;\n",
       "    }\n",
       "</style>\n",
       "<table border=\"1\" class=\"dataframe\">\n",
       "  <thead>\n",
       "    <tr style=\"text-align: right;\">\n",
       "      <th></th>\n",
       "      <th>id</th>\n",
       "      <th>nom</th>\n",
       "      <th>title</th>\n",
       "      <th>woman_titre</th>\n",
       "      <th>pays</th>\n",
       "      <th>classique</th>\n",
       "      <th>rapide</th>\n",
       "      <th>blitz</th>\n",
       "      <th>naissance</th>\n",
       "      <th>sexe</th>\n",
       "      <th>actif</th>\n",
       "      <th>titre_dates</th>\n",
       "    </tr>\n",
       "  </thead>\n",
       "  <tbody>\n",
       "    <tr>\n",
       "      <th>9755</th>\n",
       "      <td>2219824</td>\n",
       "      <td>Redondo Arguelles, Graciela</td>\n",
       "      <td>WFM</td>\n",
       "      <td>WFM</td>\n",
       "      <td>ESP</td>\n",
       "      <td>2031.0</td>\n",
       "      <td>1984.0</td>\n",
       "      <td>NaN</td>\n",
       "      <td>1979.0</td>\n",
       "      <td>F</td>\n",
       "      <td>1</td>\n",
       "      <td>['Woman FIDE Master (WFM)', '2004', 'Title', '...</td>\n",
       "    </tr>\n",
       "    <tr>\n",
       "      <th>11931</th>\n",
       "      <td>13602470</td>\n",
       "      <td>Tsereteli, Tamar</td>\n",
       "      <td>WGM</td>\n",
       "      <td>WGM</td>\n",
       "      <td>GEO</td>\n",
       "      <td>2306.0</td>\n",
       "      <td>NaN</td>\n",
       "      <td>2312.0</td>\n",
       "      <td>1985.0</td>\n",
       "      <td>F</td>\n",
       "      <td>0</td>\n",
       "      <td>['Woman Grandmaster (WGM)', '2005', 'Woman Int...</td>\n",
       "    </tr>\n",
       "    <tr>\n",
       "      <th>11969</th>\n",
       "      <td>14105560</td>\n",
       "      <td>Zemlickova, Olena</td>\n",
       "      <td>WIM</td>\n",
       "      <td>WIM</td>\n",
       "      <td>CZE</td>\n",
       "      <td>2014.0</td>\n",
       "      <td>2122.0</td>\n",
       "      <td>2102.0</td>\n",
       "      <td>1985.0</td>\n",
       "      <td>F</td>\n",
       "      <td>1</td>\n",
       "      <td>['Woman International Master (WIM)', '2015', '...</td>\n",
       "    </tr>\n",
       "    <tr>\n",
       "      <th>11966</th>\n",
       "      <td>12801496</td>\n",
       "      <td>Zaksaite, Salomeja</td>\n",
       "      <td>WIM</td>\n",
       "      <td>WIM</td>\n",
       "      <td>LTU</td>\n",
       "      <td>2202.0</td>\n",
       "      <td>2140.0</td>\n",
       "      <td>2002.0</td>\n",
       "      <td>1985.0</td>\n",
       "      <td>F</td>\n",
       "      <td>0</td>\n",
       "      <td>['Woman International Master (WIM)', '2003']</td>\n",
       "    </tr>\n",
       "    <tr>\n",
       "      <th>11956</th>\n",
       "      <td>933376</td>\n",
       "      <td>Vranesevic, Danica</td>\n",
       "      <td>WFM</td>\n",
       "      <td>WFM</td>\n",
       "      <td>SRB</td>\n",
       "      <td>2032.0</td>\n",
       "      <td>NaN</td>\n",
       "      <td>NaN</td>\n",
       "      <td>1985.0</td>\n",
       "      <td>F</td>\n",
       "      <td>0</td>\n",
       "      <td>[]</td>\n",
       "    </tr>\n",
       "  </tbody>\n",
       "</table>\n",
       "</div>"
      ],
      "text/plain": [
       "             id                          nom title woman_titre pays  \\\n",
       "9755    2219824  Redondo Arguelles, Graciela   WFM         WFM  ESP   \n",
       "11931  13602470             Tsereteli, Tamar   WGM         WGM  GEO   \n",
       "11969  14105560            Zemlickova, Olena   WIM         WIM  CZE   \n",
       "11966  12801496           Zaksaite, Salomeja   WIM         WIM  LTU   \n",
       "11956    933376           Vranesevic, Danica   WFM         WFM  SRB   \n",
       "\n",
       "       classique  rapide   blitz  naissance sexe actif  \\\n",
       "9755      2031.0  1984.0     NaN     1979.0    F     1   \n",
       "11931     2306.0     NaN  2312.0     1985.0    F     0   \n",
       "11969     2014.0  2122.0  2102.0     1985.0    F     1   \n",
       "11966     2202.0  2140.0  2002.0     1985.0    F     0   \n",
       "11956     2032.0     NaN     NaN     1985.0    F     0   \n",
       "\n",
       "                                             titre_dates  \n",
       "9755   ['Woman FIDE Master (WFM)', '2004', 'Title', '...  \n",
       "11931  ['Woman Grandmaster (WGM)', '2005', 'Woman Int...  \n",
       "11969  ['Woman International Master (WIM)', '2015', '...  \n",
       "11966       ['Woman International Master (WIM)', '2003']  \n",
       "11956                                                 []  "
      ]
     },
     "execution_count": 15,
     "metadata": {},
     "output_type": "execute_result"
    }
   ],
   "source": [
    "df.iloc[df['title'].apply(lambda x:len(x)).sort_values(ascending=False)[:100].index].head()"
   ]
  },
  {
   "cell_type": "markdown",
   "id": "8aa10387",
   "metadata": {},
   "source": [
    "Il semblerait que lorsqu'il y'a le mot 'Title' dans la colonne titre_dates, les informations ne sont pas utiles"
   ]
  },
  {
   "cell_type": "code",
   "execution_count": 16,
   "id": "8a224201",
   "metadata": {
    "scrolled": true
   },
   "outputs": [
    {
     "data": {
      "text/html": [
       "<div>\n",
       "<style scoped>\n",
       "    .dataframe tbody tr th:only-of-type {\n",
       "        vertical-align: middle;\n",
       "    }\n",
       "\n",
       "    .dataframe tbody tr th {\n",
       "        vertical-align: top;\n",
       "    }\n",
       "\n",
       "    .dataframe thead th {\n",
       "        text-align: right;\n",
       "    }\n",
       "</style>\n",
       "<table border=\"1\" class=\"dataframe\">\n",
       "  <thead>\n",
       "    <tr style=\"text-align: right;\">\n",
       "      <th></th>\n",
       "      <th>id</th>\n",
       "      <th>nom</th>\n",
       "      <th>title</th>\n",
       "      <th>woman_titre</th>\n",
       "      <th>pays</th>\n",
       "      <th>classique</th>\n",
       "      <th>rapide</th>\n",
       "      <th>blitz</th>\n",
       "      <th>naissance</th>\n",
       "      <th>sexe</th>\n",
       "      <th>actif</th>\n",
       "      <th>titre_dates</th>\n",
       "    </tr>\n",
       "  </thead>\n",
       "  <tbody>\n",
       "    <tr>\n",
       "      <th>0</th>\n",
       "      <td>5813298</td>\n",
       "      <td>Lim, Kok Ann</td>\n",
       "      <td>CM</td>\n",
       "      <td>NaN</td>\n",
       "      <td>SGP</td>\n",
       "      <td>NaN</td>\n",
       "      <td>NaN</td>\n",
       "      <td>NaN</td>\n",
       "      <td>1920.0</td>\n",
       "      <td>M</td>\n",
       "      <td>1</td>\n",
       "      <td>['Candidate Master (CM)', '2012']</td>\n",
       "    </tr>\n",
       "    <tr>\n",
       "      <th>1</th>\n",
       "      <td>4611870</td>\n",
       "      <td>Keller-Hermann, Edith</td>\n",
       "      <td>WGM</td>\n",
       "      <td>WGM</td>\n",
       "      <td>GER</td>\n",
       "      <td>2290.0</td>\n",
       "      <td>NaN</td>\n",
       "      <td>NaN</td>\n",
       "      <td>1921.0</td>\n",
       "      <td>F</td>\n",
       "      <td>0</td>\n",
       "      <td>['Woman Grandmaster (WGM)', '1978', 'Woman Int...</td>\n",
       "    </tr>\n",
       "    <tr>\n",
       "      <th>2</th>\n",
       "      <td>2002310</td>\n",
       "      <td>Levy, Louis</td>\n",
       "      <td>FM</td>\n",
       "      <td>NaN</td>\n",
       "      <td>USA</td>\n",
       "      <td>2275.0</td>\n",
       "      <td>NaN</td>\n",
       "      <td>NaN</td>\n",
       "      <td>1921.0</td>\n",
       "      <td>M</td>\n",
       "      <td>0</td>\n",
       "      <td>[]</td>\n",
       "    </tr>\n",
       "    <tr>\n",
       "      <th>3</th>\n",
       "      <td>14100657</td>\n",
       "      <td>Ousatchi, Mark</td>\n",
       "      <td>FM</td>\n",
       "      <td>NaN</td>\n",
       "      <td>GER</td>\n",
       "      <td>2157.0</td>\n",
       "      <td>NaN</td>\n",
       "      <td>NaN</td>\n",
       "      <td>1921.0</td>\n",
       "      <td>M</td>\n",
       "      <td>0</td>\n",
       "      <td>[]</td>\n",
       "    </tr>\n",
       "    <tr>\n",
       "      <th>4</th>\n",
       "      <td>4101529</td>\n",
       "      <td>Averbakh, Yuri L</td>\n",
       "      <td>GM</td>\n",
       "      <td>NaN</td>\n",
       "      <td>RUS</td>\n",
       "      <td>2445.0</td>\n",
       "      <td>NaN</td>\n",
       "      <td>NaN</td>\n",
       "      <td>1922.0</td>\n",
       "      <td>M</td>\n",
       "      <td>0</td>\n",
       "      <td>['Grandmaster (GM)', '1952', 'International Ma...</td>\n",
       "    </tr>\n",
       "  </tbody>\n",
       "</table>\n",
       "</div>"
      ],
      "text/plain": [
       "         id                    nom title woman_titre pays  classique  rapide  \\\n",
       "0   5813298           Lim, Kok Ann    CM         NaN  SGP        NaN     NaN   \n",
       "1   4611870  Keller-Hermann, Edith   WGM         WGM  GER     2290.0     NaN   \n",
       "2   2002310            Levy, Louis    FM         NaN  USA     2275.0     NaN   \n",
       "3  14100657         Ousatchi, Mark    FM         NaN  GER     2157.0     NaN   \n",
       "4   4101529       Averbakh, Yuri L    GM         NaN  RUS     2445.0     NaN   \n",
       "\n",
       "   blitz  naissance sexe actif  \\\n",
       "0    NaN     1920.0    M     1   \n",
       "1    NaN     1921.0    F     0   \n",
       "2    NaN     1921.0    M     0   \n",
       "3    NaN     1921.0    M     0   \n",
       "4    NaN     1922.0    M     0   \n",
       "\n",
       "                                         titre_dates  \n",
       "0                  ['Candidate Master (CM)', '2012']  \n",
       "1  ['Woman Grandmaster (WGM)', '1978', 'Woman Int...  \n",
       "2                                                 []  \n",
       "3                                                 []  \n",
       "4  ['Grandmaster (GM)', '1952', 'International Ma...  "
      ]
     },
     "execution_count": 16,
     "metadata": {},
     "output_type": "execute_result"
    }
   ],
   "source": [
    "df.head()"
   ]
  },
  {
   "cell_type": "code",
   "execution_count": 17,
   "id": "83d09b7f",
   "metadata": {},
   "outputs": [],
   "source": [
    "# # Change la colonne titre_dates de str à list\n",
    "df.loc[df['titre_dates'].dropna().index, 'titre_dates'] = df['titre_dates'].dropna().apply(lambda x: ast.literal_eval(x))"
   ]
  },
  {
   "cell_type": "code",
   "execution_count": 18,
   "id": "9e01a026",
   "metadata": {
    "scrolled": true
   },
   "outputs": [],
   "source": [
    "def remove_titre(titre_list):\n",
    "    \"\"\"Enlève tout les éléments de la lise si 'Title' est présent dans titre_list\n",
    "    Args :\n",
    "        titre_list (list): liste de la colonne df['titre_dates']\n",
    "    \n",
    "        Returns:\n",
    "            list : liste modifié si modifications nécessaires, sinon la liste sans changement\n",
    "        \n",
    "    \n",
    "    \"\"\"\n",
    "    if 'Title' in titre_list:\n",
    "        return titre_list[:titre_list.index('Title')]\n",
    "    return titre_list"
   ]
  },
  {
   "cell_type": "code",
   "execution_count": 19,
   "id": "dfcc855f",
   "metadata": {},
   "outputs": [],
   "source": [
    "df.loc[df['titre_dates'].dropna().apply(remove_titre).index, 'titre_dates'] = df['titre_dates'].dropna().apply(remove_titre)"
   ]
  },
  {
   "cell_type": "code",
   "execution_count": 20,
   "id": "a559123e",
   "metadata": {},
   "outputs": [],
   "source": [
    "df['titre_dates'] = df['titre_dates'].apply(lambda x: np.nan if (len(x)==0) else x)"
   ]
  },
  {
   "cell_type": "markdown",
   "id": "3137ca57",
   "metadata": {},
   "source": [
    "Ca à l'air d'être bon"
   ]
  },
  {
   "cell_type": "code",
   "execution_count": 21,
   "id": "e11ca0f6",
   "metadata": {},
   "outputs": [],
   "source": [
    "new_cols = [\n",
    "            'Woman Candidate Master (WCM)',\n",
    "            'Candidate Master (CM)',\n",
    "            'Woman FIDE Master (WFM)',\n",
    "            'FIDE Master (FM)',\n",
    "            'Woman International Master (WIM)',\n",
    "            'International Master (IM)',\n",
    "            'Woman Grandmaster (WGM)',\n",
    "            'Grandmaster (GM)'\n",
    "           ]\n",
    "dict_cols = {}\n",
    "for col in new_cols:\n",
    "    dict_cols[col] = np.nan\n",
    "dict_default = dict_cols.copy()"
   ]
  },
  {
   "cell_type": "code",
   "execution_count": 22,
   "id": "cc67b847",
   "metadata": {},
   "outputs": [],
   "source": [
    "# for titre_dates,idx in zip(df['titre_dates'].dropna(),df['titre_dates'].dropna():\n",
    "#     titre_reshaped = np.reshape(titre_dates, (-1,2))\n",
    "# #     print(titre_reshaped)\n",
    "#     dict_cols = dict_default.copy()\n",
    "#     for i in titre_reshaped:\n",
    "#         title = i[0]\n",
    "#         year = i[1]\n",
    "#         dict_cols[title] = year\n"
   ]
  },
  {
   "cell_type": "code",
   "execution_count": 23,
   "id": "10951482",
   "metadata": {},
   "outputs": [],
   "source": [
    "def fill_columns(titre_dates):\n",
    "    titre_reshaped = np.reshape(titre_dates, (-1,2))\n",
    "    dict_cols = dict_default.copy()\n",
    "    for i in titre_reshaped:\n",
    "        title = i[0]\n",
    "        year = i[1]\n",
    "        dict_cols[title] = year\n",
    "    return dict_cols"
   ]
  },
  {
   "cell_type": "code",
   "execution_count": 24,
   "id": "66717471",
   "metadata": {},
   "outputs": [],
   "source": [
    "dict_tofill = df['titre_dates'].dropna().apply(fill_columns)\n",
    "for i in dict_tofill.index:\n",
    "#     df.loc[i, dict_tofill[i].keys()] = dict_tofill.values()\n",
    "    df.loc[i, dict_tofill[i].keys()] = dict_tofill[i].values()\n",
    "#     print(dict_tofill[i].values())\n",
    "# dict_tofill[0].keys()\n",
    "# dict_tofill[0].values()"
   ]
  }
 ],
 "metadata": {
  "kernelspec": {
   "display_name": "Python 3",
   "language": "python",
   "name": "python3"
  },
  "language_info": {
   "codemirror_mode": {
    "name": "ipython",
    "version": 3
   },
   "file_extension": ".py",
   "mimetype": "text/x-python",
   "name": "python",
   "nbconvert_exporter": "python",
   "pygments_lexer": "ipython3",
   "version": "3.8.8"
  }
 },
 "nbformat": 4,
 "nbformat_minor": 5
}
