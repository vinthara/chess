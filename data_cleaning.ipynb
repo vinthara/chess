{
 "cells": [
  {
   "cell_type": "code",
   "execution_count": 153,
   "id": "25291b4e",
   "metadata": {},
   "outputs": [],
   "source": [
    "import numpy as np\n",
    "import pandas as pd"
   ]
  },
  {
   "cell_type": "code",
   "execution_count": 154,
   "id": "4c6bfdcb",
   "metadata": {},
   "outputs": [],
   "source": [
    "df = pd.read_csv('titled_players_raw.csv',index_col=0)"
   ]
  },
  {
   "cell_type": "code",
   "execution_count": 155,
   "id": "ca9ff95b",
   "metadata": {},
   "outputs": [
    {
     "data": {
      "text/html": [
       "<div>\n",
       "<style scoped>\n",
       "    .dataframe tbody tr th:only-of-type {\n",
       "        vertical-align: middle;\n",
       "    }\n",
       "\n",
       "    .dataframe tbody tr th {\n",
       "        vertical-align: top;\n",
       "    }\n",
       "\n",
       "    .dataframe thead th {\n",
       "        text-align: right;\n",
       "    }\n",
       "</style>\n",
       "<table border=\"1\" class=\"dataframe\">\n",
       "  <thead>\n",
       "    <tr style=\"text-align: right;\">\n",
       "      <th></th>\n",
       "      <th>IDcode</th>\n",
       "      <th>Name</th>\n",
       "      <th>T</th>\n",
       "      <th>WT</th>\n",
       "      <th>Oth. T.</th>\n",
       "      <th>Fed</th>\n",
       "      <th>Rtg</th>\n",
       "      <th>Rpd</th>\n",
       "      <th>Blz</th>\n",
       "      <th>B-Year</th>\n",
       "      <th>S</th>\n",
       "      <th>F</th>\n",
       "      <th>Title</th>\n",
       "    </tr>\n",
       "  </thead>\n",
       "  <tbody>\n",
       "    <tr>\n",
       "      <th>0</th>\n",
       "      <td>5813298</td>\n",
       "      <td>Lim, Kok Ann</td>\n",
       "      <td>CM</td>\n",
       "      <td></td>\n",
       "      <td></td>\n",
       "      <td>SGP</td>\n",
       "      <td></td>\n",
       "      <td></td>\n",
       "      <td></td>\n",
       "      <td>1920</td>\n",
       "      <td>M</td>\n",
       "      <td></td>\n",
       "      <td>['Candidate Master (CM)', '2012']</td>\n",
       "    </tr>\n",
       "    <tr>\n",
       "      <th>1</th>\n",
       "      <td>4611870</td>\n",
       "      <td>Keller-Hermann, Edith</td>\n",
       "      <td>WGM</td>\n",
       "      <td>WGM</td>\n",
       "      <td></td>\n",
       "      <td>GER</td>\n",
       "      <td>2290</td>\n",
       "      <td></td>\n",
       "      <td></td>\n",
       "      <td>1921</td>\n",
       "      <td>F</td>\n",
       "      <td>i</td>\n",
       "      <td>['Woman Grandmaster (WGM)', '1978', 'Woman Int...</td>\n",
       "    </tr>\n",
       "    <tr>\n",
       "      <th>2</th>\n",
       "      <td>2002310</td>\n",
       "      <td>Levy, Louis</td>\n",
       "      <td>FM</td>\n",
       "      <td></td>\n",
       "      <td></td>\n",
       "      <td>USA</td>\n",
       "      <td>2275</td>\n",
       "      <td></td>\n",
       "      <td></td>\n",
       "      <td>1921</td>\n",
       "      <td>M</td>\n",
       "      <td>i</td>\n",
       "      <td>[]</td>\n",
       "    </tr>\n",
       "    <tr>\n",
       "      <th>3</th>\n",
       "      <td>14100657</td>\n",
       "      <td>Ousatchi, Mark</td>\n",
       "      <td>FM</td>\n",
       "      <td></td>\n",
       "      <td></td>\n",
       "      <td>GER</td>\n",
       "      <td>2157</td>\n",
       "      <td></td>\n",
       "      <td></td>\n",
       "      <td>1921</td>\n",
       "      <td>M</td>\n",
       "      <td>i</td>\n",
       "      <td>[]</td>\n",
       "    </tr>\n",
       "    <tr>\n",
       "      <th>4</th>\n",
       "      <td>4101529</td>\n",
       "      <td>Averbakh, Yuri L</td>\n",
       "      <td>GM</td>\n",
       "      <td></td>\n",
       "      <td></td>\n",
       "      <td>RUS</td>\n",
       "      <td>2445</td>\n",
       "      <td></td>\n",
       "      <td></td>\n",
       "      <td>1922</td>\n",
       "      <td>M</td>\n",
       "      <td>i</td>\n",
       "      <td>['Grandmaster (GM)', '1952', 'International Ma...</td>\n",
       "    </tr>\n",
       "  </tbody>\n",
       "</table>\n",
       "</div>"
      ],
      "text/plain": [
       "     IDcode                    Name     T    WT Oth. T.  Fed    Rtg Rpd Blz  \\\n",
       "0   5813298            Lim, Kok Ann    CM                SGP                  \n",
       "1   4611870   Keller-Hermann, Edith   WGM   WGM          GER  2290            \n",
       "2   2002310             Levy, Louis    FM                USA  2275            \n",
       "3  14100657          Ousatchi, Mark    FM                GER  2157            \n",
       "4   4101529        Averbakh, Yuri L    GM                RUS  2445            \n",
       "\n",
       "  B-Year  S  F                                              Title  \n",
       "0   1920  M                     ['Candidate Master (CM)', '2012']  \n",
       "1   1921  F  i  ['Woman Grandmaster (WGM)', '1978', 'Woman Int...  \n",
       "2   1921  M  i                                                 []  \n",
       "3   1921  M  i                                                 []  \n",
       "4   1922  M  i  ['Grandmaster (GM)', '1952', 'International Ma...  "
      ]
     },
     "execution_count": 155,
     "metadata": {},
     "output_type": "execute_result"
    }
   ],
   "source": [
    "df.head()"
   ]
  },
  {
   "cell_type": "code",
   "execution_count": 156,
   "id": "8c0b3c9e",
   "metadata": {},
   "outputs": [],
   "source": [
    "df = df.replace({' ':np.nan,'[]': np.nan})"
   ]
  },
  {
   "cell_type": "code",
   "execution_count": 157,
   "id": "48388edd",
   "metadata": {},
   "outputs": [
    {
     "data": {
      "text/html": [
       "<div>\n",
       "<style scoped>\n",
       "    .dataframe tbody tr th:only-of-type {\n",
       "        vertical-align: middle;\n",
       "    }\n",
       "\n",
       "    .dataframe tbody tr th {\n",
       "        vertical-align: top;\n",
       "    }\n",
       "\n",
       "    .dataframe thead th {\n",
       "        text-align: right;\n",
       "    }\n",
       "</style>\n",
       "<table border=\"1\" class=\"dataframe\">\n",
       "  <thead>\n",
       "    <tr style=\"text-align: right;\">\n",
       "      <th></th>\n",
       "      <th>IDcode</th>\n",
       "      <th>Name</th>\n",
       "      <th>T</th>\n",
       "      <th>WT</th>\n",
       "      <th>Oth. T.</th>\n",
       "      <th>Fed</th>\n",
       "      <th>Rtg</th>\n",
       "      <th>Rpd</th>\n",
       "      <th>Blz</th>\n",
       "      <th>B-Year</th>\n",
       "      <th>S</th>\n",
       "      <th>F</th>\n",
       "      <th>Title</th>\n",
       "    </tr>\n",
       "  </thead>\n",
       "  <tbody>\n",
       "    <tr>\n",
       "      <th>0</th>\n",
       "      <td>5813298</td>\n",
       "      <td>Lim, Kok Ann</td>\n",
       "      <td>CM</td>\n",
       "      <td>NaN</td>\n",
       "      <td>NaN</td>\n",
       "      <td>SGP</td>\n",
       "      <td>NaN</td>\n",
       "      <td>NaN</td>\n",
       "      <td>NaN</td>\n",
       "      <td>1920</td>\n",
       "      <td>M</td>\n",
       "      <td>NaN</td>\n",
       "      <td>['Candidate Master (CM)', '2012']</td>\n",
       "    </tr>\n",
       "    <tr>\n",
       "      <th>1</th>\n",
       "      <td>4611870</td>\n",
       "      <td>Keller-Hermann, Edith</td>\n",
       "      <td>WGM</td>\n",
       "      <td>WGM</td>\n",
       "      <td>NaN</td>\n",
       "      <td>GER</td>\n",
       "      <td>2290</td>\n",
       "      <td>NaN</td>\n",
       "      <td>NaN</td>\n",
       "      <td>1921</td>\n",
       "      <td>F</td>\n",
       "      <td>i</td>\n",
       "      <td>['Woman Grandmaster (WGM)', '1978', 'Woman Int...</td>\n",
       "    </tr>\n",
       "    <tr>\n",
       "      <th>2</th>\n",
       "      <td>2002310</td>\n",
       "      <td>Levy, Louis</td>\n",
       "      <td>FM</td>\n",
       "      <td>NaN</td>\n",
       "      <td>NaN</td>\n",
       "      <td>USA</td>\n",
       "      <td>2275</td>\n",
       "      <td>NaN</td>\n",
       "      <td>NaN</td>\n",
       "      <td>1921</td>\n",
       "      <td>M</td>\n",
       "      <td>i</td>\n",
       "      <td>NaN</td>\n",
       "    </tr>\n",
       "    <tr>\n",
       "      <th>3</th>\n",
       "      <td>14100657</td>\n",
       "      <td>Ousatchi, Mark</td>\n",
       "      <td>FM</td>\n",
       "      <td>NaN</td>\n",
       "      <td>NaN</td>\n",
       "      <td>GER</td>\n",
       "      <td>2157</td>\n",
       "      <td>NaN</td>\n",
       "      <td>NaN</td>\n",
       "      <td>1921</td>\n",
       "      <td>M</td>\n",
       "      <td>i</td>\n",
       "      <td>NaN</td>\n",
       "    </tr>\n",
       "    <tr>\n",
       "      <th>4</th>\n",
       "      <td>4101529</td>\n",
       "      <td>Averbakh, Yuri L</td>\n",
       "      <td>GM</td>\n",
       "      <td>NaN</td>\n",
       "      <td>NaN</td>\n",
       "      <td>RUS</td>\n",
       "      <td>2445</td>\n",
       "      <td>NaN</td>\n",
       "      <td>NaN</td>\n",
       "      <td>1922</td>\n",
       "      <td>M</td>\n",
       "      <td>i</td>\n",
       "      <td>['Grandmaster (GM)', '1952', 'International Ma...</td>\n",
       "    </tr>\n",
       "  </tbody>\n",
       "</table>\n",
       "</div>"
      ],
      "text/plain": [
       "     IDcode                    Name     T    WT Oth. T.  Fed    Rtg  Rpd  Blz  \\\n",
       "0   5813298            Lim, Kok Ann    CM   NaN     NaN  SGP    NaN  NaN  NaN   \n",
       "1   4611870   Keller-Hermann, Edith   WGM   WGM     NaN  GER  2290   NaN  NaN   \n",
       "2   2002310             Levy, Louis    FM   NaN     NaN  USA  2275   NaN  NaN   \n",
       "3  14100657          Ousatchi, Mark    FM   NaN     NaN  GER  2157   NaN  NaN   \n",
       "4   4101529        Averbakh, Yuri L    GM   NaN     NaN  RUS  2445   NaN  NaN   \n",
       "\n",
       "  B-Year  S    F                                              Title  \n",
       "0   1920  M  NaN                  ['Candidate Master (CM)', '2012']  \n",
       "1   1921  F    i  ['Woman Grandmaster (WGM)', '1978', 'Woman Int...  \n",
       "2   1921  M    i                                                NaN  \n",
       "3   1921  M    i                                                NaN  \n",
       "4   1922  M    i  ['Grandmaster (GM)', '1952', 'International Ma...  "
      ]
     },
     "execution_count": 157,
     "metadata": {},
     "output_type": "execute_result"
    }
   ],
   "source": [
    "df.head()"
   ]
  },
  {
   "cell_type": "code",
   "execution_count": 158,
   "id": "17ac86dc",
   "metadata": {},
   "outputs": [
    {
     "name": "stdout",
     "output_type": "stream",
     "text": [
      "<class 'pandas.core.frame.DataFrame'>\n",
      "Int64Index: 19510 entries, 0 to 19509\n",
      "Data columns (total 13 columns):\n",
      " #   Column   Non-Null Count  Dtype \n",
      "---  ------   --------------  ----- \n",
      " 0   IDcode   19510 non-null  int64 \n",
      " 1   Name     19510 non-null  object\n",
      " 2   T        19510 non-null  object\n",
      " 3   WT       3929 non-null   object\n",
      " 4   Oth. T.  105 non-null    object\n",
      " 5   Fed      19510 non-null  object\n",
      " 6   Rtg      19436 non-null  object\n",
      " 7   Rpd      11811 non-null  object\n",
      " 8   Blz      12074 non-null  object\n",
      " 9   B-Year   19508 non-null  object\n",
      " 10  S        19510 non-null  object\n",
      " 11  F        8260 non-null   object\n",
      " 12  Title    15467 non-null  object\n",
      "dtypes: int64(1), object(12)\n",
      "memory usage: 2.1+ MB\n"
     ]
    }
   ],
   "source": [
    "df.info()"
   ]
  },
  {
   "cell_type": "markdown",
   "id": "088771f0",
   "metadata": {},
   "source": [
    "La colonne Oth. T. est vide à 99% et nous donne des informations sur les joueurs ayant reçu des titres pour l'arbritrage. Cela ne nous intéresse pas.\n",
    "\n",
    "Eliminons la"
   ]
  },
  {
   "cell_type": "code",
   "execution_count": 159,
   "id": "511f4393",
   "metadata": {},
   "outputs": [],
   "source": [
    "df = df.drop('Oth. T.', axis=1)"
   ]
  },
  {
   "cell_type": "markdown",
   "id": "4b87d592",
   "metadata": {},
   "source": [
    "La colonne WT est vide à 79%"
   ]
  },
  {
   "cell_type": "code",
   "execution_count": 160,
   "id": "b0e7ed90",
   "metadata": {},
   "outputs": [
    {
     "data": {
      "text/plain": [
       "NaN     0.798616\n",
       " WFM    0.091748\n",
       " WIM    0.043875\n",
       " WCM    0.041312\n",
       " WGM    0.024398\n",
       " WH     0.000051\n",
       "Name: WT, dtype: float64"
      ]
     },
     "execution_count": 160,
     "metadata": {},
     "output_type": "execute_result"
    }
   ],
   "source": [
    "df['WT'].value_counts(normalize=True, dropna=False)"
   ]
  },
  {
   "cell_type": "markdown",
   "id": "8e38ca26",
   "metadata": {},
   "source": [
    "Néanmoins 79% des titres sont détenus par les hommes"
   ]
  },
  {
   "cell_type": "code",
   "execution_count": 161,
   "id": "cb0f48d3",
   "metadata": {},
   "outputs": [
    {
     "data": {
      "text/plain": [
       "M    0.797335\n",
       "F    0.202665\n",
       "Name: S, dtype: float64"
      ]
     },
     "execution_count": 161,
     "metadata": {},
     "output_type": "execute_result"
    }
   ],
   "source": [
    "df['S'].value_counts(normalize=True)"
   ]
  },
  {
   "cell_type": "markdown",
   "id": "d88e2279",
   "metadata": {},
   "source": [
    "Enlevons les espaces inutiles dans les colonnes de types object"
   ]
  },
  {
   "cell_type": "code",
   "execution_count": 162,
   "id": "8ac704ea",
   "metadata": {},
   "outputs": [],
   "source": [
    "cols = df.select_dtypes(include=['object']).columns\n",
    "for col in cols:\n",
    "    df[col] = df[col].str.strip()"
   ]
  },
  {
   "cell_type": "code",
   "execution_count": 163,
   "id": "11db39c1",
   "metadata": {},
   "outputs": [],
   "source": [
    "df = df.rename(columns = {'IDcode':'id', \n",
    "           'Name':'nom',\n",
    "           'T':'title',\n",
    "           'WT':'woman_titre',\n",
    "           'Fed':'pays',\n",
    "           'Rtg':'classique',\n",
    "           'Rpd':'rapide',\n",
    "           'Blz':'blitz',\n",
    "           'B-Year':'naissance',\n",
    "           'S':'sexe',\n",
    "           'F':'actif',\n",
    "           'Title':'titre_dates'\n",
    "          })"
   ]
  },
  {
   "cell_type": "code",
   "execution_count": 168,
   "id": "38e3342d",
   "metadata": {},
   "outputs": [],
   "source": [
    "df[['classique', 'rapide', 'blitz', 'naissance']] = df[['classique', 'rapide', 'blitz', 'naissance']].astype('float')"
   ]
  },
  {
   "cell_type": "markdown",
   "id": "4b0d9f84",
   "metadata": {},
   "source": [
    "Remplaçons la colonne actif par 1 si le joueur est actif 0 sinon"
   ]
  },
  {
   "cell_type": "code",
   "execution_count": 171,
   "id": "c1a84a00",
   "metadata": {},
   "outputs": [
    {
     "data": {
      "text/plain": [
       "i    8260\n",
       "Name: actif, dtype: int64"
      ]
     },
     "execution_count": 171,
     "metadata": {},
     "output_type": "execute_result"
    }
   ],
   "source": [
    "df['actif'].value_counts()"
   ]
  },
  {
   "cell_type": "markdown",
   "id": "2245189d",
   "metadata": {},
   "source": [
    "A vérifier si l'in/activité des joueurs semble correct"
   ]
  },
  {
   "cell_type": "code",
   "execution_count": 172,
   "id": "c6ac6875",
   "metadata": {},
   "outputs": [
    {
     "data": {
      "text/plain": [
       "0        1\n",
       "1        0\n",
       "2        0\n",
       "3        0\n",
       "4        0\n",
       "        ..\n",
       "19505    1\n",
       "19506    1\n",
       "19507    1\n",
       "19508    1\n",
       "19509    1\n",
       "Name: actif, Length: 19510, dtype: object"
      ]
     },
     "execution_count": 172,
     "metadata": {},
     "output_type": "execute_result"
    }
   ],
   "source": [
    "# df['actif'] = df['actif']\n",
    "df['actif'].replace({'i':'0',np.nan:'1'})"
   ]
  },
  {
   "cell_type": "code",
   "execution_count": 56,
   "id": "8ca84a99",
   "metadata": {
    "scrolled": true
   },
   "outputs": [
    {
     "name": "stdout",
     "output_type": "stream",
     "text": [
      "17075    ['Grandmaster (GM)', '2021', 'International Ma...\n",
      "16439    ['International Master (IM)', '2016', 'Woman G...\n",
      "17179    ['International Master (IM)', '2019', 'FIDE Ma...\n",
      "15924    ['International Master (IM)', '2017', 'Woman G...\n",
      "14207    ['International Master (IM)', '2017', 'Woman G...\n",
      "                               ...                        \n",
      "11091    ['FIDE Master (FM)', '2017', 'Title', 'FIDE PB...\n",
      "15176    ['Woman Grandmaster (WGM)', '2017', 'Woman Int...\n",
      "11898    ['FIDE Master (FM)', '2005', 'Title', 'FIDE PB...\n",
      "16305    ['Woman Grandmaster (WGM)', '2019', 'Woman Int...\n",
      "16618    ['Grandmaster (GM)', '2016', 'International Ma...\n",
      "Name: Title, Length: 100, dtype: object\n"
     ]
    }
   ],
   "source": [
    "df.iloc[df['Title'].apply(lambda x:len(x)).sort_values(ascending=False)[:100].index]"
   ]
  },
  {
   "cell_type": "code",
   "execution_count": 58,
   "id": "dfcc855f",
   "metadata": {},
   "outputs": [
    {
     "data": {
      "text/plain": [
       "\"['Grandmaster (GM)', '2021', 'International Master (IM)', '2017', 'Woman Grandmaster (WGM)', '2014', 'Woman International Master (WIM)', '2011', 'Woman FIDE Master (WFM)', '2010', 'Title', 'FIDE PB / Congress', 'Status', 'Grandmaster', '89th FIDE Congress 2018, 26 Sep - 6 Oct, Batumi, Georgia', 'YES', 'International Master', 'Title Applications approved by the Presidential Board by written resolution', 'YES', 'Woman Grandmaster', '1st quarter Presidential Board Meeting, Khanty-Mansiysk, RUS, 29 March - 1 April 2014', 'YES']\""
      ]
     },
     "execution_count": 58,
     "metadata": {},
     "output_type": "execute_result"
    }
   ],
   "source": [
    "df['Title'].iloc[17075]"
   ]
  },
  {
   "cell_type": "code",
   "execution_count": 62,
   "id": "ce16403f",
   "metadata": {},
   "outputs": [
    {
     "data": {
      "text/html": [
       "<div>\n",
       "<style scoped>\n",
       "    .dataframe tbody tr th:only-of-type {\n",
       "        vertical-align: middle;\n",
       "    }\n",
       "\n",
       "    .dataframe tbody tr th {\n",
       "        vertical-align: top;\n",
       "    }\n",
       "\n",
       "    .dataframe thead th {\n",
       "        text-align: right;\n",
       "    }\n",
       "</style>\n",
       "<table border=\"1\" class=\"dataframe\">\n",
       "  <thead>\n",
       "    <tr style=\"text-align: right;\">\n",
       "      <th></th>\n",
       "      <th>IDcode</th>\n",
       "      <th>Name</th>\n",
       "      <th>T</th>\n",
       "      <th>WT</th>\n",
       "      <th>Oth. T.</th>\n",
       "      <th>Fed</th>\n",
       "      <th>Rtg</th>\n",
       "      <th>Rpd</th>\n",
       "      <th>Blz</th>\n",
       "      <th>B-Year</th>\n",
       "      <th>S</th>\n",
       "      <th>F</th>\n",
       "      <th>Title</th>\n",
       "    </tr>\n",
       "  </thead>\n",
       "  <tbody>\n",
       "    <tr>\n",
       "      <th>17075</th>\n",
       "      <td>13703544</td>\n",
       "      <td>Abdumalik, Zhansaya</td>\n",
       "      <td>GM</td>\n",
       "      <td>WGM</td>\n",
       "      <td></td>\n",
       "      <td>KAZ</td>\n",
       "      <td>2502</td>\n",
       "      <td>2444</td>\n",
       "      <td>2380</td>\n",
       "      <td>2000</td>\n",
       "      <td>F</td>\n",
       "      <td></td>\n",
       "      <td>['Grandmaster (GM)', '2021', 'International Ma...</td>\n",
       "    </tr>\n",
       "  </tbody>\n",
       "</table>\n",
       "</div>"
      ],
      "text/plain": [
       "         IDcode                  Name    T    WT Oth. T.  Fed    Rtg     Rpd  \\\n",
       "17075  13703544   Abdumalik, Zhansaya   GM   WGM          KAZ  2502    2444    \n",
       "\n",
       "          Blz B-Year  S  F                                              Title  \n",
       "17075   2380    2000  F     ['Grandmaster (GM)', '2021', 'International Ma...  "
      ]
     },
     "execution_count": 62,
     "metadata": {},
     "output_type": "execute_result"
    }
   ],
   "source": [
    "df.iloc[[17075]]"
   ]
  }
 ],
 "metadata": {
  "kernelspec": {
   "display_name": "Python 3",
   "language": "python",
   "name": "python3"
  },
  "language_info": {
   "codemirror_mode": {
    "name": "ipython",
    "version": 3
   },
   "file_extension": ".py",
   "mimetype": "text/x-python",
   "name": "python",
   "nbconvert_exporter": "python",
   "pygments_lexer": "ipython3",
   "version": "3.8.8"
  }
 },
 "nbformat": 4,
 "nbformat_minor": 5
}
